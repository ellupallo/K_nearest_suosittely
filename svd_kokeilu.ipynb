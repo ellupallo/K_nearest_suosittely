{
 "cells": [
  {
   "cell_type": "markdown",
   "metadata": {},
   "source": [
    "### Anime ratingsien perusteella suosittelumalli käyttäen SVD-metodia.\n",
    "Ajatus, tehdään malli samplella.\n",
    "Mallin voi ajaa kenelle tahansa, jolla user_id."
   ]
  },
  {
   "cell_type": "markdown",
   "metadata": {},
   "source": [
    "Otetaan sisään ratings data (käyttäjät, anime_id ja arviot) ja anime data (anime_id ja kuvaukset)"
   ]
  },
  {
   "cell_type": "code",
   "execution_count": 83,
   "metadata": {},
   "outputs": [],
   "source": [
    "import pandas as pd\n",
    "import numpy as np\n",
    "import matplotlib.pyplot as plt\n",
    " \n",
    "ratings_data = pd.read_csv(\"rating.csv\")\n",
    "anime_data = pd.read_csv(\"anime.csv\")"
   ]
  },
  {
   "cell_type": "markdown",
   "metadata": {},
   "source": [
    "Datan tutkimista ja muokkaamista"
   ]
  },
  {
   "cell_type": "code",
   "execution_count": 84,
   "metadata": {},
   "outputs": [
    {
     "data": {
      "text/plain": [
       "(   user_id  anime_id  rating\n",
       " 0        1        20      -1\n",
       " 1        1        24      -1\n",
       " 2        1        79      -1\n",
       " 3        1       226      -1\n",
       " 4        1       241      -1\n",
       " 5        1       355      -1\n",
       " 6        1       356      -1\n",
       " 7        1       442      -1\n",
       " 8        1       487      -1\n",
       " 9        1       846      -1,)"
      ]
     },
     "execution_count": 84,
     "metadata": {},
     "output_type": "execute_result"
    }
   ],
   "source": [
    "ratings_data.head(10), "
   ]
  },
  {
   "cell_type": "code",
   "execution_count": 85,
   "metadata": {},
   "outputs": [
    {
     "name": "stdout",
     "output_type": "stream",
     "text": [
      "user_id\n",
      "48766    10227\n",
      "42635     3747\n",
      "53698     2905\n",
      "57620     2702\n",
      "59643     2633\n",
      "Name: rating, dtype: int64\n"
     ]
    }
   ],
   "source": [
    "user_rating_counts = ratings_data.groupby(\"user_id\")[\"rating\"].count()\n",
    "# Display the distribution\n",
    "print(user_rating_counts.sort_values(ascending=False).head(5))"
   ]
  },
  {
   "cell_type": "code",
   "execution_count": 86,
   "metadata": {},
   "outputs": [],
   "source": [
    "# # movies_data[\"genre\"].unique()\n",
    "# unique_genres = list(anime_data[\"genre\"].unique())\n",
    "# print(unique_genres)\n",
    "# unique_genres"
   ]
  },
  {
   "cell_type": "code",
   "execution_count": 87,
   "metadata": {},
   "outputs": [
    {
     "name": "stdout",
     "output_type": "stream",
     "text": [
      "genre\n",
      "Hentai                                                  823\n",
      "Comedy                                                  523\n",
      "Music                                                   301\n",
      "Kids                                                    199\n",
      "Comedy, Slice of Life                                   179\n",
      "                                                       ... \n",
      "Adventure, Drama, Fantasy, Game, Sci-Fi                   1\n",
      "Adventure, Demons, Fantasy, Historical                    1\n",
      "Action, Comedy, Drama, Mecha, Music, Sci-Fi, Shounen      1\n",
      "Action, Comedy, Fantasy, Mecha, Sci-Fi, Shounen           1\n",
      "Hentai, Slice of Life                                     1\n",
      "Name: count, Length: 3264, dtype: int64\n"
     ]
    }
   ],
   "source": [
    "genre_counts = anime_data[\"genre\"].value_counts()\n",
    "print(genre_counts)"
   ]
  },
  {
   "cell_type": "markdown",
   "metadata": {},
   "source": [
    "Poistetaan -1 ratings-arvot, oletus kuvastavat sitä, että reittausta ei ole annettu"
   ]
  },
  {
   "cell_type": "code",
   "execution_count": 88,
   "metadata": {},
   "outputs": [],
   "source": [
    "ratings_data = ratings_data[ratings_data.rating!=-1]"
   ]
  },
  {
   "cell_type": "code",
   "execution_count": 89,
   "metadata": {},
   "outputs": [
    {
     "data": {
      "text/plain": [
       "(6337241, 3)"
      ]
     },
     "execution_count": 89,
     "metadata": {},
     "output_type": "execute_result"
    }
   ],
   "source": [
    "ratings_data.shape"
   ]
  },
  {
   "cell_type": "code",
   "execution_count": 90,
   "metadata": {},
   "outputs": [
    {
     "data": {
      "text/html": [
       "<div>\n",
       "<style scoped>\n",
       "    .dataframe tbody tr th:only-of-type {\n",
       "        vertical-align: middle;\n",
       "    }\n",
       "\n",
       "    .dataframe tbody tr th {\n",
       "        vertical-align: top;\n",
       "    }\n",
       "\n",
       "    .dataframe thead th {\n",
       "        text-align: right;\n",
       "    }\n",
       "</style>\n",
       "<table border=\"1\" class=\"dataframe\">\n",
       "  <thead>\n",
       "    <tr style=\"text-align: right;\">\n",
       "      <th></th>\n",
       "      <th>user_id</th>\n",
       "      <th>anime_id</th>\n",
       "      <th>rating</th>\n",
       "    </tr>\n",
       "  </thead>\n",
       "  <tbody>\n",
       "    <tr>\n",
       "      <th>47</th>\n",
       "      <td>1</td>\n",
       "      <td>8074</td>\n",
       "      <td>10</td>\n",
       "    </tr>\n",
       "    <tr>\n",
       "      <th>81</th>\n",
       "      <td>1</td>\n",
       "      <td>11617</td>\n",
       "      <td>10</td>\n",
       "    </tr>\n",
       "    <tr>\n",
       "      <th>83</th>\n",
       "      <td>1</td>\n",
       "      <td>11757</td>\n",
       "      <td>10</td>\n",
       "    </tr>\n",
       "    <tr>\n",
       "      <th>101</th>\n",
       "      <td>1</td>\n",
       "      <td>15451</td>\n",
       "      <td>10</td>\n",
       "    </tr>\n",
       "    <tr>\n",
       "      <th>153</th>\n",
       "      <td>2</td>\n",
       "      <td>11771</td>\n",
       "      <td>10</td>\n",
       "    </tr>\n",
       "  </tbody>\n",
       "</table>\n",
       "</div>"
      ],
      "text/plain": [
       "     user_id  anime_id  rating\n",
       "47         1      8074      10\n",
       "81         1     11617      10\n",
       "83         1     11757      10\n",
       "101        1     15451      10\n",
       "153        2     11771      10"
      ]
     },
     "execution_count": 90,
     "metadata": {},
     "output_type": "execute_result"
    }
   ],
   "source": [
    "ratings_data.head()"
   ]
  },
  {
   "cell_type": "markdown",
   "metadata": {},
   "source": [
    "### Mallinnus"
   ]
  },
  {
   "cell_type": "code",
   "execution_count": 91,
   "metadata": {},
   "outputs": [
    {
     "name": "stdout",
     "output_type": "stream",
     "text": [
      "1\n",
      "10\n"
     ]
    }
   ],
   "source": [
    "from surprise import Dataset\n",
    "from surprise import Reader\n",
    " \n",
    "# Get minimum and maximum rating from the dataset\n",
    "min_rating = ratings_data.rating.min()\n",
    "max_rating = ratings_data.rating.max()\n",
    " \n",
    "print(min_rating)\n",
    "print(max_rating)"
   ]
  },
  {
   "cell_type": "markdown",
   "metadata": {},
   "source": [
    "Otetaan 1000 otos mallinnusta varten"
   ]
  },
  {
   "cell_type": "code",
   "execution_count": 92,
   "metadata": {},
   "outputs": [],
   "source": [
    "ratings_data_s = ratings_data.sample(n=1000, random_state=42).reset_index(drop=True)  # Sample 6000 rows"
   ]
  },
  {
   "cell_type": "code",
   "execution_count": 93,
   "metadata": {},
   "outputs": [
    {
     "data": {
      "text/html": [
       "<div>\n",
       "<style scoped>\n",
       "    .dataframe tbody tr th:only-of-type {\n",
       "        vertical-align: middle;\n",
       "    }\n",
       "\n",
       "    .dataframe tbody tr th {\n",
       "        vertical-align: top;\n",
       "    }\n",
       "\n",
       "    .dataframe thead th {\n",
       "        text-align: right;\n",
       "    }\n",
       "</style>\n",
       "<table border=\"1\" class=\"dataframe\">\n",
       "  <thead>\n",
       "    <tr style=\"text-align: right;\">\n",
       "      <th></th>\n",
       "      <th>user_id</th>\n",
       "      <th>anime_id</th>\n",
       "      <th>rating</th>\n",
       "    </tr>\n",
       "  </thead>\n",
       "  <tbody>\n",
       "    <tr>\n",
       "      <th>0</th>\n",
       "      <td>53103</td>\n",
       "      <td>6707</td>\n",
       "      <td>7</td>\n",
       "    </tr>\n",
       "    <tr>\n",
       "      <th>1</th>\n",
       "      <td>32884</td>\n",
       "      <td>339</td>\n",
       "      <td>8</td>\n",
       "    </tr>\n",
       "    <tr>\n",
       "      <th>2</th>\n",
       "      <td>24907</td>\n",
       "      <td>23755</td>\n",
       "      <td>9</td>\n",
       "    </tr>\n",
       "    <tr>\n",
       "      <th>3</th>\n",
       "      <td>52213</td>\n",
       "      <td>10156</td>\n",
       "      <td>7</td>\n",
       "    </tr>\n",
       "    <tr>\n",
       "      <th>4</th>\n",
       "      <td>994</td>\n",
       "      <td>1562</td>\n",
       "      <td>10</td>\n",
       "    </tr>\n",
       "  </tbody>\n",
       "</table>\n",
       "</div>"
      ],
      "text/plain": [
       "   user_id  anime_id  rating\n",
       "0    53103      6707       7\n",
       "1    32884       339       8\n",
       "2    24907     23755       9\n",
       "3    52213     10156       7\n",
       "4      994      1562      10"
      ]
     },
     "execution_count": 93,
     "metadata": {},
     "output_type": "execute_result"
    }
   ],
   "source": [
    "ratings_data_s.head()"
   ]
  },
  {
   "cell_type": "markdown",
   "metadata": {},
   "source": [
    "Etsitään mallin käsin testausta varten user_id,jota ei ole sample_datassa"
   ]
  },
  {
   "cell_type": "code",
   "execution_count": 94,
   "metadata": {},
   "outputs": [
    {
     "data": {
      "text/html": [
       "<div>\n",
       "<style scoped>\n",
       "    .dataframe tbody tr th:only-of-type {\n",
       "        vertical-align: middle;\n",
       "    }\n",
       "\n",
       "    .dataframe tbody tr th {\n",
       "        vertical-align: top;\n",
       "    }\n",
       "\n",
       "    .dataframe thead th {\n",
       "        text-align: right;\n",
       "    }\n",
       "</style>\n",
       "<table border=\"1\" class=\"dataframe\">\n",
       "  <thead>\n",
       "    <tr style=\"text-align: right;\">\n",
       "      <th></th>\n",
       "      <th>user_id</th>\n",
       "      <th>anime_id</th>\n",
       "      <th>rating</th>\n",
       "    </tr>\n",
       "  </thead>\n",
       "  <tbody>\n",
       "  </tbody>\n",
       "</table>\n",
       "</div>"
      ],
      "text/plain": [
       "Empty DataFrame\n",
       "Columns: [user_id, anime_id, rating]\n",
       "Index: []"
      ]
     },
     "execution_count": 94,
     "metadata": {},
     "output_type": "execute_result"
    }
   ],
   "source": [
    "ratings_data_s[ratings_data_s[\"user_id\"] == 47]\n"
   ]
  },
  {
   "cell_type": "markdown",
   "metadata": {},
   "source": [
    "Varmistetaan samplen koko"
   ]
  },
  {
   "cell_type": "code",
   "execution_count": 95,
   "metadata": {},
   "outputs": [
    {
     "data": {
      "text/plain": [
       "(1000, 3)"
      ]
     },
     "execution_count": 95,
     "metadata": {},
     "output_type": "execute_result"
    }
   ],
   "source": [
    "ratings_data_s.shape"
   ]
  },
  {
   "cell_type": "markdown",
   "metadata": {},
   "source": [
    "Vasrinainen mallin ajaminen"
   ]
  },
  {
   "cell_type": "code",
   "execution_count": 96,
   "metadata": {},
   "outputs": [],
   "source": [
    "reader = Reader(rating_scale=(min_rating, max_rating))\n",
    "data = Dataset.load_from_df(ratings_data_s[['user_id', 'anime_id', 'rating']], reader)"
   ]
  },
  {
   "cell_type": "code",
   "execution_count": 97,
   "metadata": {},
   "outputs": [
    {
     "name": "stdout",
     "output_type": "stream",
     "text": [
      "Evaluating RMSE, MAE of algorithm SVD on 10 split(s).\n",
      "\n",
      "                  Fold 1  Fold 2  Fold 3  Fold 4  Fold 5  Fold 6  Fold 7  Fold 8  Fold 9  Fold 10 Mean    Std     \n",
      "RMSE (testset)    1.7532  1.5975  1.3649  1.4165  1.3933  1.3274  1.5350  1.4812  1.4463  1.2617  1.4577  0.1354  \n",
      "MAE (testset)     1.3555  1.2465  1.1032  1.1114  1.0822  1.0004  1.1395  1.1567  1.1097  0.9998  1.1305  0.1014  \n",
      "Fit time          0.01    0.01    0.01    0.01    0.01    0.01    0.01    0.01    0.01    0.01    0.01    0.00    \n",
      "Test time         0.00    0.00    0.00    0.00    0.00    0.00    0.00    0.00    0.00    0.00    0.00    0.00    \n"
     ]
    }
   ],
   "source": [
    "from surprise import SVD\n",
    "from surprise.model_selection import cross_validate\n",
    " \n",
    "svd = SVD(n_epochs=10)\n",
    "results = cross_validate(svd, data, measures=['RMSE', 'MAE'], cv=10, verbose=True)"
   ]
  },
  {
   "cell_type": "code",
   "execution_count": 98,
   "metadata": {},
   "outputs": [
    {
     "name": "stdout",
     "output_type": "stream",
     "text": [
      "Average MAE:  1.1304932128471816\n",
      "Average RMSE:  1.457694572359773\n"
     ]
    }
   ],
   "source": [
    "print(\"Average MAE: \", np.average(results[\"test_mae\"])) # Absuluuttinen ero ennustetun ja todellisen reittauksen välillä, mitä pienempi, sen parempi\n",
    "print(\"Average RMSE: \", np.average(results[\"test_rmse\"])) # Erojen neliö, mitä pienempi sen parempi"
   ]
  },
  {
   "cell_type": "markdown",
   "metadata": {},
   "source": [
    "MAEn ja RMSE:n pitäisi ilmeisesti mielellään olla alle 1, mutta tässä asteikko 1-10 eikä 1-5,\n",
    "joten ehkä tämä ero kuitekin ok, vaikkei erinomainen"
   ]
  },
  {
   "cell_type": "markdown",
   "metadata": {},
   "source": [
    "Mallin tuunaus: Hyperparameter Tuning using grd search cross-validation"
   ]
  },
  {
   "cell_type": "code",
   "execution_count": 99,
   "metadata": {},
   "outputs": [
    {
     "name": "stdout",
     "output_type": "stream",
     "text": [
      "1.4508692038992315\n",
      "{'n_factors': 50, 'n_epochs': 20}\n"
     ]
    }
   ],
   "source": [
    "from surprise.model_selection import GridSearchCV\n",
    " \n",
    "param_grid = {\n",
    "  'n_factors': [20, 50, 100],\n",
    "  'n_epochs': [5, 10, 20]\n",
    "}\n",
    " \n",
    "gs = GridSearchCV(SVD, param_grid, measures=['rmse', 'mae'], cv=10)\n",
    "gs.fit(data)\n",
    " \n",
    "print(gs.best_score['rmse'])\n",
    "print(gs.best_params['rmse'])"
   ]
  },
  {
   "cell_type": "markdown",
   "metadata": {},
   "source": [
    "Tulos parani hiukan, muttei merkittävästi"
   ]
  },
  {
   "cell_type": "code",
   "execution_count": 100,
   "metadata": {},
   "outputs": [
    {
     "data": {
      "text/plain": [
       "<surprise.prediction_algorithms.matrix_factorization.SVD at 0x1bc2c9993a0>"
      ]
     },
     "execution_count": 100,
     "metadata": {},
     "output_type": "execute_result"
    }
   ],
   "source": [
    "from surprise.model_selection import train_test_split\n",
    " \n",
    "# best hyperparameters\n",
    "best_factor = gs.best_params['rmse']['n_factors']\n",
    "best_epoch = gs.best_params['rmse']['n_epochs']\n",
    " \n",
    "# sample random trainset and testset\n",
    "# test set is made of 20% of the ratings.\n",
    "trainset, testset = train_test_split(data, test_size=.20)\n",
    " \n",
    "# We'll use the famous SVD algorithm.\n",
    "svd = SVD(n_factors=best_factor, n_epochs=best_epoch)\n",
    " \n",
    "# Train the algorithm on the trainset\n",
    "svd.fit(trainset)"
   ]
  },
  {
   "cell_type": "markdown",
   "metadata": {},
   "source": [
    "Mallin ajaminen valitulle user_id:lle, jos ymmärrän oikein.\n",
    "User_id:n ei tarvitse olla sample-datassa\n",
    "Tässä esimerkkinä user_id : 47.\n",
    "User_id:lle annetaan top 10 suositusta."
   ]
  },
  {
   "cell_type": "code",
   "execution_count": 101,
   "metadata": {},
   "outputs": [
    {
     "name": "stdout",
     "output_type": "stream",
     "text": [
      "Top 10 item recommendations for user 47:\n",
      "Cowboy Bebop 8.404794775685787\n",
      "Action, Adventure, Comedy, Drama, Sci-Fi, Space\n",
      "Clannad 8.359785922872902\n",
      "Comedy, Drama, Romance, School, Slice of Life, Supernatural\n",
      "Steins;Gate 8.308564632506423\n",
      "Sci-Fi, Thriller\n",
      "Death Note 8.248094296060046\n",
      "Mystery, Police, Psychological, Supernatural, Thriller\n",
      "Usagi Drop 8.239677844579711\n",
      "Josei, Slice of Life\n",
      "Shokugeki no Souma 8.23728066881738\n",
      "Ecchi, School, Shounen\n",
      "Blood-C 8.226461617523643\n",
      "Action, Horror, School, Supernatural, Vampire\n",
      "Yamato Nadeshiko Shichihenge♥ 8.181443796586825\n",
      "Comedy, Shoujo\n",
      "Clannad: Mou Hitotsu no Sekai, Tomoyo-hen 8.175111787139446\n",
      "Drama, Romance, School, Slice of Life\n",
      "Monster 8.1729449693308\n",
      "Drama, Horror, Mystery, Police, Psychological, Seinen, Thriller\n"
     ]
    }
   ],
   "source": [
    "def generate_recommendation(model, user_id, ratings_df, movies_df, n_items):\n",
    "   # Get a list of all movie IDs from dataset\n",
    "   movie_ids = ratings_df[\"anime_id\"].unique()\n",
    " \n",
    "   # Get a list of all movie IDs that have been watched by user\n",
    "   movie_ids_user = ratings_df.loc[ratings_df[\"user_id\"] == user_id, \"anime_id\"]\n",
    "    # Get a list off all movie IDS that that have not been watched by user\n",
    "   movie_ids_to_pred = np.setdiff1d(movie_ids, movie_ids_user)\n",
    " \n",
    "   # Apply a rating of 4 to all interactions (only to match the Surprise dataset format)\n",
    "   test_set = [[user_id, movie_id, 4] for movie_id in movie_ids_to_pred]\n",
    " \n",
    "   # Predict the ratings and generate recommendations\n",
    "   predictions = model.test(test_set)\n",
    "   pred_ratings = np.array([pred.est for pred in predictions])\n",
    "   print(\"Top {0} item recommendations for user {1}:\".format(n_items, user_id))\n",
    "   # Rank top-n movies based on the predicted ratings\n",
    "   index_max = (-pred_ratings).argsort()[:n_items]\n",
    " \n",
    "   for i in index_max:\n",
    "       movie_id = movie_ids_to_pred[i]\n",
    "      \n",
    "       print(movies_df[movies_df[\"anime_id\"]==movie_id][\"name\"].values[0], pred_ratings[i])\n",
    "       print(movies_df[movies_df[\"anime_id\"]==movie_id][\"genre\"].values[0])\n",
    "    \n",
    "\n",
    "# define which user ID that we want to give recommendation\n",
    "userID = 47  \n",
    "# define how many top-n movies that we want to recommend\n",
    "n_items = 10\n",
    "# generate recommendation using the model that we have trained\n",
    "generate_recommendation(svd,userID,ratings_data,anime_data,n_items)"
   ]
  },
  {
   "cell_type": "markdown",
   "metadata": {},
   "source": [
    "User_id:n tietojen hakeminen, 10 parhaiten reitattua"
   ]
  },
  {
   "cell_type": "code",
   "execution_count": 102,
   "metadata": {},
   "outputs": [
    {
     "data": {
      "text/html": [
       "<div>\n",
       "<style scoped>\n",
       "    .dataframe tbody tr th:only-of-type {\n",
       "        vertical-align: middle;\n",
       "    }\n",
       "\n",
       "    .dataframe tbody tr th {\n",
       "        vertical-align: top;\n",
       "    }\n",
       "\n",
       "    .dataframe thead th {\n",
       "        text-align: right;\n",
       "    }\n",
       "</style>\n",
       "<table border=\"1\" class=\"dataframe\">\n",
       "  <thead>\n",
       "    <tr style=\"text-align: right;\">\n",
       "      <th></th>\n",
       "      <th>anime_id</th>\n",
       "      <th>name</th>\n",
       "      <th>genre</th>\n",
       "      <th>rating_x</th>\n",
       "    </tr>\n",
       "  </thead>\n",
       "  <tbody>\n",
       "    <tr>\n",
       "      <th>0</th>\n",
       "      <td>120</td>\n",
       "      <td>Fruits Basket</td>\n",
       "      <td>Comedy, Drama, Fantasy, Romance, Shoujo, Slice...</td>\n",
       "      <td>10</td>\n",
       "    </tr>\n",
       "    <tr>\n",
       "      <th>1</th>\n",
       "      <td>199</td>\n",
       "      <td>Sen to Chihiro no Kamikakushi</td>\n",
       "      <td>Adventure, Drama, Supernatural</td>\n",
       "      <td>10</td>\n",
       "    </tr>\n",
       "    <tr>\n",
       "      <th>2</th>\n",
       "      <td>523</td>\n",
       "      <td>Tonari no Totoro</td>\n",
       "      <td>Adventure, Comedy, Supernatural</td>\n",
       "      <td>10</td>\n",
       "    </tr>\n",
       "    <tr>\n",
       "      <th>3</th>\n",
       "      <td>853</td>\n",
       "      <td>Ouran Koukou Host Club</td>\n",
       "      <td>Comedy, Harem, Romance, School, Shoujo</td>\n",
       "      <td>10</td>\n",
       "    </tr>\n",
       "    <tr>\n",
       "      <th>4</th>\n",
       "      <td>3588</td>\n",
       "      <td>Soul Eater</td>\n",
       "      <td>Action, Adventure, Comedy, Fantasy, Shounen, S...</td>\n",
       "      <td>10</td>\n",
       "    </tr>\n",
       "    <tr>\n",
       "      <th>5</th>\n",
       "      <td>5681</td>\n",
       "      <td>Summer Wars</td>\n",
       "      <td>Comedy, Sci-Fi</td>\n",
       "      <td>10</td>\n",
       "    </tr>\n",
       "    <tr>\n",
       "      <th>6</th>\n",
       "      <td>6702</td>\n",
       "      <td>Fairy Tail</td>\n",
       "      <td>Action, Adventure, Comedy, Fantasy, Magic, Sho...</td>\n",
       "      <td>10</td>\n",
       "    </tr>\n",
       "    <tr>\n",
       "      <th>7</th>\n",
       "      <td>7337</td>\n",
       "      <td>Hetalia Axis Powers Movie: Paint it, White</td>\n",
       "      <td>Comedy, Historical, Parody</td>\n",
       "      <td>10</td>\n",
       "    </tr>\n",
       "    <tr>\n",
       "      <th>8</th>\n",
       "      <td>431</td>\n",
       "      <td>Howl no Ugoku Shiro</td>\n",
       "      <td>Adventure, Drama, Fantasy, Romance</td>\n",
       "      <td>9</td>\n",
       "    </tr>\n",
       "    <tr>\n",
       "      <th>9</th>\n",
       "      <td>530</td>\n",
       "      <td>Bishoujo Senshi Sailor Moon</td>\n",
       "      <td>Demons, Magic, Romance, Shoujo</td>\n",
       "      <td>9</td>\n",
       "    </tr>\n",
       "  </tbody>\n",
       "</table>\n",
       "</div>"
      ],
      "text/plain": [
       "   anime_id                                        name  \\\n",
       "0       120                               Fruits Basket   \n",
       "1       199               Sen to Chihiro no Kamikakushi   \n",
       "2       523                            Tonari no Totoro   \n",
       "3       853                      Ouran Koukou Host Club   \n",
       "4      3588                                  Soul Eater   \n",
       "5      5681                                 Summer Wars   \n",
       "6      6702                                  Fairy Tail   \n",
       "7      7337  Hetalia Axis Powers Movie: Paint it, White   \n",
       "8       431                         Howl no Ugoku Shiro   \n",
       "9       530                 Bishoujo Senshi Sailor Moon   \n",
       "\n",
       "                                               genre  rating_x  \n",
       "0  Comedy, Drama, Fantasy, Romance, Shoujo, Slice...        10  \n",
       "1                     Adventure, Drama, Supernatural        10  \n",
       "2                    Adventure, Comedy, Supernatural        10  \n",
       "3             Comedy, Harem, Romance, School, Shoujo        10  \n",
       "4  Action, Adventure, Comedy, Fantasy, Shounen, S...        10  \n",
       "5                                     Comedy, Sci-Fi        10  \n",
       "6  Action, Adventure, Comedy, Fantasy, Magic, Sho...        10  \n",
       "7                         Comedy, Historical, Parody        10  \n",
       "8                 Adventure, Drama, Fantasy, Romance         9  \n",
       "9                     Demons, Magic, Romance, Shoujo         9  "
      ]
     },
     "execution_count": 102,
     "metadata": {},
     "output_type": "execute_result"
    }
   ],
   "source": [
    "def top_rated_movies(user_id, ratings_data, anime_data, n_items=10):\n",
    "    \"\"\"\n",
    "    Lists the top highest-rated movies for a given user and retrieves their name and genre.\n",
    "    \n",
    "    Parameters:\n",
    "        user_id (int): ID of the user to filter ratings for.\n",
    "        ratings_data (pd.DataFrame): DataFrame containing user-item ratings with columns ['user_id', 'anime_id', 'rating'].\n",
    "        movies_data (pd.DataFrame): DataFrame containing movie details with at least ['anime_id', 'name', 'genre'].\n",
    "        n_items (int): Number of top-rated movies to retrieve (default is 10).\n",
    "    \n",
    "    Returns:\n",
    "        pd.DataFrame: DataFrame with top-rated movies including their name, genre, and rating.\n",
    "    \"\"\"\n",
    "    # Filter ratings for the given user\n",
    "    user_ratings = ratings_data[ratings_data[\"user_id\"] == user_id]\n",
    "    \n",
    "    # Get the top n_items highest-rated movies\n",
    "    top_rated = user_ratings.nlargest(n_items, \"rating\")\n",
    "    \n",
    "    # Merge with movies_df to get the name and genre\n",
    "    top_rated = top_rated.merge(anime_data, on=\"anime_id\", how=\"inner\")\n",
    "    \n",
    "    # Select relevant columns\n",
    "    result = top_rated[[\"anime_id\", \"name\", \"genre\", \"rating_x\"]].sort_values(by=\"rating_x\", ascending=False)\n",
    "    \n",
    "    return result\n",
    "\n",
    "# Example usage\n",
    "# top_movies = top_rated_movies(user_id=1, ratings_df=ratings_data, movies_df=movies_data, n_items=10)\n",
    "# print(top_movies)\n",
    "\n",
    "user_id = 47 \n",
    "\n",
    "top_rated_movies(user_id,ratings_data, anime_data, n_items=10)\n"
   ]
  }
 ],
 "metadata": {
  "kernelspec": {
   "display_name": "condaenv",
   "language": "python",
   "name": "python3"
  },
  "language_info": {
   "codemirror_mode": {
    "name": "ipython",
    "version": 3
   },
   "file_extension": ".py",
   "mimetype": "text/x-python",
   "name": "python",
   "nbconvert_exporter": "python",
   "pygments_lexer": "ipython3",
   "version": "3.12.7"
  }
 },
 "nbformat": 4,
 "nbformat_minor": 2
}
