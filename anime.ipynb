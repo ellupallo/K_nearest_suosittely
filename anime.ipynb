{
 "cells": [
  {
   "cell_type": "code",
   "execution_count": 82,
   "metadata": {},
   "outputs": [],
   "source": [
    "import numpy as np\n",
    "import pandas as pd\n",
    "from collections import defaultdict\n",
    "\n",
    "from surprise import Reader\n",
    "from surprise import Dataset\n",
    "from surprise import KNNBasic\n",
    "from surprise.model_selection import cross_validate\n",
    "\n",
    "import pprint"
   ]
  },
  {
   "cell_type": "code",
   "execution_count": 83,
   "metadata": {},
   "outputs": [
    {
     "data": {
      "text/plain": [
       "(7813737, 3)"
      ]
     },
     "execution_count": 83,
     "metadata": {},
     "output_type": "execute_result"
    }
   ],
   "source": [
    "ratings_df = pd.read_csv(\"rating.csv\")\n",
    "ratings_df.shape"
   ]
  },
  {
   "cell_type": "code",
   "execution_count": 84,
   "metadata": {},
   "outputs": [
    {
     "data": {
      "text/html": [
       "<div>\n",
       "<style scoped>\n",
       "    .dataframe tbody tr th:only-of-type {\n",
       "        vertical-align: middle;\n",
       "    }\n",
       "\n",
       "    .dataframe tbody tr th {\n",
       "        vertical-align: top;\n",
       "    }\n",
       "\n",
       "    .dataframe thead th {\n",
       "        text-align: right;\n",
       "    }\n",
       "</style>\n",
       "<table border=\"1\" class=\"dataframe\">\n",
       "  <thead>\n",
       "    <tr style=\"text-align: right;\">\n",
       "      <th></th>\n",
       "      <th>user_id</th>\n",
       "      <th>anime_id</th>\n",
       "      <th>rating</th>\n",
       "    </tr>\n",
       "  </thead>\n",
       "  <tbody>\n",
       "    <tr>\n",
       "      <th>0</th>\n",
       "      <td>1</td>\n",
       "      <td>20</td>\n",
       "      <td>-1</td>\n",
       "    </tr>\n",
       "    <tr>\n",
       "      <th>1</th>\n",
       "      <td>1</td>\n",
       "      <td>24</td>\n",
       "      <td>-1</td>\n",
       "    </tr>\n",
       "    <tr>\n",
       "      <th>2</th>\n",
       "      <td>1</td>\n",
       "      <td>79</td>\n",
       "      <td>-1</td>\n",
       "    </tr>\n",
       "    <tr>\n",
       "      <th>3</th>\n",
       "      <td>1</td>\n",
       "      <td>226</td>\n",
       "      <td>-1</td>\n",
       "    </tr>\n",
       "    <tr>\n",
       "      <th>4</th>\n",
       "      <td>1</td>\n",
       "      <td>241</td>\n",
       "      <td>-1</td>\n",
       "    </tr>\n",
       "  </tbody>\n",
       "</table>\n",
       "</div>"
      ],
      "text/plain": [
       "   user_id  anime_id  rating\n",
       "0        1        20      -1\n",
       "1        1        24      -1\n",
       "2        1        79      -1\n",
       "3        1       226      -1\n",
       "4        1       241      -1"
      ]
     },
     "execution_count": 84,
     "metadata": {},
     "output_type": "execute_result"
    }
   ],
   "source": [
    "ratings_df.head(5)"
   ]
  },
  {
   "cell_type": "code",
   "execution_count": 85,
   "metadata": {},
   "outputs": [
    {
     "name": "stdout",
     "output_type": "stream",
     "text": [
      "rating\n",
      " 8     1646019\n",
      "-1     1476496\n",
      " 7     1375287\n",
      " 9     1254096\n",
      " 10     955715\n",
      " 6      637775\n",
      " 5      282806\n",
      " 4      104291\n",
      " 3       41453\n",
      " 2       23150\n",
      " 1       16649\n",
      "Name: count, dtype: int64\n"
     ]
    }
   ],
   "source": [
    "# ratings_df[\"rating\"].unique()\n",
    "\n",
    "total_ratings_count = ratings_df[\"rating\"].value_counts()\n",
    "print(total_ratings_count)"
   ]
  },
  {
   "cell_type": "code",
   "execution_count": 86,
   "metadata": {},
   "outputs": [
    {
     "data": {
      "text/plain": [
       "(12294, 7)"
      ]
     },
     "execution_count": 86,
     "metadata": {},
     "output_type": "execute_result"
    }
   ],
   "source": [
    "anime_df = pd.read_csv(\"anime.csv\")\n",
    "anime_df.shape"
   ]
  },
  {
   "cell_type": "code",
   "execution_count": 87,
   "metadata": {},
   "outputs": [
    {
     "data": {
      "text/html": [
       "<div>\n",
       "<style scoped>\n",
       "    .dataframe tbody tr th:only-of-type {\n",
       "        vertical-align: middle;\n",
       "    }\n",
       "\n",
       "    .dataframe tbody tr th {\n",
       "        vertical-align: top;\n",
       "    }\n",
       "\n",
       "    .dataframe thead th {\n",
       "        text-align: right;\n",
       "    }\n",
       "</style>\n",
       "<table border=\"1\" class=\"dataframe\">\n",
       "  <thead>\n",
       "    <tr style=\"text-align: right;\">\n",
       "      <th></th>\n",
       "      <th>anime_id</th>\n",
       "      <th>name</th>\n",
       "      <th>genre</th>\n",
       "      <th>type</th>\n",
       "      <th>episodes</th>\n",
       "      <th>rating</th>\n",
       "      <th>members</th>\n",
       "    </tr>\n",
       "  </thead>\n",
       "  <tbody>\n",
       "    <tr>\n",
       "      <th>0</th>\n",
       "      <td>32281</td>\n",
       "      <td>Kimi no Na wa.</td>\n",
       "      <td>Drama, Romance, School, Supernatural</td>\n",
       "      <td>Movie</td>\n",
       "      <td>1</td>\n",
       "      <td>9.37</td>\n",
       "      <td>200630</td>\n",
       "    </tr>\n",
       "    <tr>\n",
       "      <th>1</th>\n",
       "      <td>5114</td>\n",
       "      <td>Fullmetal Alchemist: Brotherhood</td>\n",
       "      <td>Action, Adventure, Drama, Fantasy, Magic, Mili...</td>\n",
       "      <td>TV</td>\n",
       "      <td>64</td>\n",
       "      <td>9.26</td>\n",
       "      <td>793665</td>\n",
       "    </tr>\n",
       "    <tr>\n",
       "      <th>2</th>\n",
       "      <td>28977</td>\n",
       "      <td>Gintama°</td>\n",
       "      <td>Action, Comedy, Historical, Parody, Samurai, S...</td>\n",
       "      <td>TV</td>\n",
       "      <td>51</td>\n",
       "      <td>9.25</td>\n",
       "      <td>114262</td>\n",
       "    </tr>\n",
       "    <tr>\n",
       "      <th>3</th>\n",
       "      <td>9253</td>\n",
       "      <td>Steins;Gate</td>\n",
       "      <td>Sci-Fi, Thriller</td>\n",
       "      <td>TV</td>\n",
       "      <td>24</td>\n",
       "      <td>9.17</td>\n",
       "      <td>673572</td>\n",
       "    </tr>\n",
       "    <tr>\n",
       "      <th>4</th>\n",
       "      <td>9969</td>\n",
       "      <td>Gintama&amp;#039;</td>\n",
       "      <td>Action, Comedy, Historical, Parody, Samurai, S...</td>\n",
       "      <td>TV</td>\n",
       "      <td>51</td>\n",
       "      <td>9.16</td>\n",
       "      <td>151266</td>\n",
       "    </tr>\n",
       "  </tbody>\n",
       "</table>\n",
       "</div>"
      ],
      "text/plain": [
       "   anime_id                              name  \\\n",
       "0     32281                    Kimi no Na wa.   \n",
       "1      5114  Fullmetal Alchemist: Brotherhood   \n",
       "2     28977                          Gintama°   \n",
       "3      9253                       Steins;Gate   \n",
       "4      9969                     Gintama&#039;   \n",
       "\n",
       "                                               genre   type episodes  rating  \\\n",
       "0               Drama, Romance, School, Supernatural  Movie        1    9.37   \n",
       "1  Action, Adventure, Drama, Fantasy, Magic, Mili...     TV       64    9.26   \n",
       "2  Action, Comedy, Historical, Parody, Samurai, S...     TV       51    9.25   \n",
       "3                                   Sci-Fi, Thriller     TV       24    9.17   \n",
       "4  Action, Comedy, Historical, Parody, Samurai, S...     TV       51    9.16   \n",
       "\n",
       "   members  \n",
       "0   200630  \n",
       "1   793665  \n",
       "2   114262  \n",
       "3   673572  \n",
       "4   151266  "
      ]
     },
     "execution_count": 87,
     "metadata": {},
     "output_type": "execute_result"
    }
   ],
   "source": [
    "anime_df.head(5)"
   ]
  },
  {
   "cell_type": "code",
   "execution_count": 88,
   "metadata": {},
   "outputs": [
    {
     "data": {
      "text/html": [
       "<div>\n",
       "<style scoped>\n",
       "    .dataframe tbody tr th:only-of-type {\n",
       "        vertical-align: middle;\n",
       "    }\n",
       "\n",
       "    .dataframe tbody tr th {\n",
       "        vertical-align: top;\n",
       "    }\n",
       "\n",
       "    .dataframe thead th {\n",
       "        text-align: right;\n",
       "    }\n",
       "</style>\n",
       "<table border=\"1\" class=\"dataframe\">\n",
       "  <thead>\n",
       "    <tr style=\"text-align: right;\">\n",
       "      <th></th>\n",
       "      <th>user_id</th>\n",
       "      <th>anime_id</th>\n",
       "      <th>rating_x</th>\n",
       "      <th>name</th>\n",
       "      <th>genre</th>\n",
       "      <th>type</th>\n",
       "      <th>episodes</th>\n",
       "      <th>rating_y</th>\n",
       "      <th>members</th>\n",
       "    </tr>\n",
       "  </thead>\n",
       "  <tbody>\n",
       "    <tr>\n",
       "      <th>0</th>\n",
       "      <td>1</td>\n",
       "      <td>20</td>\n",
       "      <td>-1</td>\n",
       "      <td>Naruto</td>\n",
       "      <td>Action, Comedy, Martial Arts, Shounen, Super P...</td>\n",
       "      <td>TV</td>\n",
       "      <td>220</td>\n",
       "      <td>7.81</td>\n",
       "      <td>683297.0</td>\n",
       "    </tr>\n",
       "    <tr>\n",
       "      <th>1</th>\n",
       "      <td>1</td>\n",
       "      <td>24</td>\n",
       "      <td>-1</td>\n",
       "      <td>School Rumble</td>\n",
       "      <td>Comedy, Romance, School, Shounen</td>\n",
       "      <td>TV</td>\n",
       "      <td>26</td>\n",
       "      <td>8.06</td>\n",
       "      <td>178553.0</td>\n",
       "    </tr>\n",
       "    <tr>\n",
       "      <th>2</th>\n",
       "      <td>1</td>\n",
       "      <td>79</td>\n",
       "      <td>-1</td>\n",
       "      <td>Shuffle!</td>\n",
       "      <td>Comedy, Drama, Ecchi, Fantasy, Harem, Magic, R...</td>\n",
       "      <td>TV</td>\n",
       "      <td>24</td>\n",
       "      <td>7.31</td>\n",
       "      <td>158772.0</td>\n",
       "    </tr>\n",
       "    <tr>\n",
       "      <th>3</th>\n",
       "      <td>1</td>\n",
       "      <td>226</td>\n",
       "      <td>-1</td>\n",
       "      <td>Elfen Lied</td>\n",
       "      <td>Action, Drama, Horror, Psychological, Romance,...</td>\n",
       "      <td>TV</td>\n",
       "      <td>13</td>\n",
       "      <td>7.85</td>\n",
       "      <td>623511.0</td>\n",
       "    </tr>\n",
       "    <tr>\n",
       "      <th>4</th>\n",
       "      <td>1</td>\n",
       "      <td>241</td>\n",
       "      <td>-1</td>\n",
       "      <td>Girls Bravo: First Season</td>\n",
       "      <td>Comedy, Ecchi, Fantasy, Harem, Romance, School</td>\n",
       "      <td>TV</td>\n",
       "      <td>11</td>\n",
       "      <td>6.69</td>\n",
       "      <td>84395.0</td>\n",
       "    </tr>\n",
       "    <tr>\n",
       "      <th>...</th>\n",
       "      <td>...</td>\n",
       "      <td>...</td>\n",
       "      <td>...</td>\n",
       "      <td>...</td>\n",
       "      <td>...</td>\n",
       "      <td>...</td>\n",
       "      <td>...</td>\n",
       "      <td>...</td>\n",
       "      <td>...</td>\n",
       "    </tr>\n",
       "    <tr>\n",
       "      <th>7813732</th>\n",
       "      <td>73515</td>\n",
       "      <td>16512</td>\n",
       "      <td>7</td>\n",
       "      <td>Devil Survivor 2 The Animation</td>\n",
       "      <td>Action, Demons, Supernatural</td>\n",
       "      <td>TV</td>\n",
       "      <td>13</td>\n",
       "      <td>7.06</td>\n",
       "      <td>101266.0</td>\n",
       "    </tr>\n",
       "    <tr>\n",
       "      <th>7813733</th>\n",
       "      <td>73515</td>\n",
       "      <td>17187</td>\n",
       "      <td>9</td>\n",
       "      <td>Ghost in the Shell: Arise - Border:1 Ghost Pain</td>\n",
       "      <td>Mecha, Police, Psychological, Sci-Fi</td>\n",
       "      <td>Movie</td>\n",
       "      <td>1</td>\n",
       "      <td>7.64</td>\n",
       "      <td>31747.0</td>\n",
       "    </tr>\n",
       "    <tr>\n",
       "      <th>7813734</th>\n",
       "      <td>73515</td>\n",
       "      <td>22145</td>\n",
       "      <td>10</td>\n",
       "      <td>Kuroshitsuji: Book of Circus</td>\n",
       "      <td>Comedy, Demons, Fantasy, Historical, Shounen, ...</td>\n",
       "      <td>TV</td>\n",
       "      <td>10</td>\n",
       "      <td>8.37</td>\n",
       "      <td>122895.0</td>\n",
       "    </tr>\n",
       "    <tr>\n",
       "      <th>7813735</th>\n",
       "      <td>73516</td>\n",
       "      <td>790</td>\n",
       "      <td>9</td>\n",
       "      <td>Ergo Proxy</td>\n",
       "      <td>Mystery, Psychological, Sci-Fi</td>\n",
       "      <td>TV</td>\n",
       "      <td>23</td>\n",
       "      <td>8.03</td>\n",
       "      <td>265005.0</td>\n",
       "    </tr>\n",
       "    <tr>\n",
       "      <th>7813736</th>\n",
       "      <td>73516</td>\n",
       "      <td>8074</td>\n",
       "      <td>9</td>\n",
       "      <td>Highschool of the Dead</td>\n",
       "      <td>Action, Ecchi, Horror, Supernatural</td>\n",
       "      <td>TV</td>\n",
       "      <td>12</td>\n",
       "      <td>7.46</td>\n",
       "      <td>535892.0</td>\n",
       "    </tr>\n",
       "  </tbody>\n",
       "</table>\n",
       "<p>7813737 rows × 9 columns</p>\n",
       "</div>"
      ],
      "text/plain": [
       "         user_id  anime_id  rating_x  \\\n",
       "0              1        20        -1   \n",
       "1              1        24        -1   \n",
       "2              1        79        -1   \n",
       "3              1       226        -1   \n",
       "4              1       241        -1   \n",
       "...          ...       ...       ...   \n",
       "7813732    73515     16512         7   \n",
       "7813733    73515     17187         9   \n",
       "7813734    73515     22145        10   \n",
       "7813735    73516       790         9   \n",
       "7813736    73516      8074         9   \n",
       "\n",
       "                                                    name  \\\n",
       "0                                                 Naruto   \n",
       "1                                          School Rumble   \n",
       "2                                               Shuffle!   \n",
       "3                                             Elfen Lied   \n",
       "4                              Girls Bravo: First Season   \n",
       "...                                                  ...   \n",
       "7813732                   Devil Survivor 2 The Animation   \n",
       "7813733  Ghost in the Shell: Arise - Border:1 Ghost Pain   \n",
       "7813734                     Kuroshitsuji: Book of Circus   \n",
       "7813735                                       Ergo Proxy   \n",
       "7813736                           Highschool of the Dead   \n",
       "\n",
       "                                                     genre   type episodes  \\\n",
       "0        Action, Comedy, Martial Arts, Shounen, Super P...     TV      220   \n",
       "1                         Comedy, Romance, School, Shounen     TV       26   \n",
       "2        Comedy, Drama, Ecchi, Fantasy, Harem, Magic, R...     TV       24   \n",
       "3        Action, Drama, Horror, Psychological, Romance,...     TV       13   \n",
       "4           Comedy, Ecchi, Fantasy, Harem, Romance, School     TV       11   \n",
       "...                                                    ...    ...      ...   \n",
       "7813732                       Action, Demons, Supernatural     TV       13   \n",
       "7813733               Mecha, Police, Psychological, Sci-Fi  Movie        1   \n",
       "7813734  Comedy, Demons, Fantasy, Historical, Shounen, ...     TV       10   \n",
       "7813735                     Mystery, Psychological, Sci-Fi     TV       23   \n",
       "7813736                Action, Ecchi, Horror, Supernatural     TV       12   \n",
       "\n",
       "         rating_y   members  \n",
       "0            7.81  683297.0  \n",
       "1            8.06  178553.0  \n",
       "2            7.31  158772.0  \n",
       "3            7.85  623511.0  \n",
       "4            6.69   84395.0  \n",
       "...           ...       ...  \n",
       "7813732      7.06  101266.0  \n",
       "7813733      7.64   31747.0  \n",
       "7813734      8.37  122895.0  \n",
       "7813735      8.03  265005.0  \n",
       "7813736      7.46  535892.0  \n",
       "\n",
       "[7813737 rows x 9 columns]"
      ]
     },
     "execution_count": 88,
     "metadata": {},
     "output_type": "execute_result"
    }
   ],
   "source": [
    "df = ratings_df.merge(anime_df.drop_duplicates(), left_on=\"anime_id\", right_on= \"anime_id\", how=\"left\")\n",
    "df"
   ]
  },
  {
   "cell_type": "code",
   "execution_count": 89,
   "metadata": {},
   "outputs": [
    {
     "data": {
      "text/plain": [
       "(7813737, 9)"
      ]
     },
     "execution_count": 89,
     "metadata": {},
     "output_type": "execute_result"
    }
   ],
   "source": [
    "df.shape"
   ]
  },
  {
   "cell_type": "code",
   "execution_count": 90,
   "metadata": {},
   "outputs": [],
   "source": [
    "df = df[df.rating_x!=-1]"
   ]
  },
  {
   "cell_type": "code",
   "execution_count": 91,
   "metadata": {},
   "outputs": [
    {
     "name": "stdout",
     "output_type": "stream",
     "text": [
      "rating_x\n",
      "8     1646019\n",
      "7     1375287\n",
      "9     1254096\n",
      "10     955715\n",
      "6      637775\n",
      "5      282806\n",
      "4      104291\n",
      "3       41453\n",
      "2       23150\n",
      "1       16649\n",
      "Name: count, dtype: int64\n"
     ]
    }
   ],
   "source": [
    "total_ratings_count = df[\"rating_x\"].value_counts()\n",
    "print(total_ratings_count)"
   ]
  },
  {
   "cell_type": "code",
   "execution_count": 92,
   "metadata": {},
   "outputs": [
    {
     "data": {
      "text/plain": [
       "count    6.337241e+06\n",
       "mean     7.808497e+00\n",
       "std      1.572496e+00\n",
       "min      1.000000e+00\n",
       "25%      7.000000e+00\n",
       "50%      8.000000e+00\n",
       "75%      9.000000e+00\n",
       "max      1.000000e+01\n",
       "Name: rating_x, dtype: float64"
      ]
     },
     "execution_count": 92,
     "metadata": {},
     "output_type": "execute_result"
    }
   ],
   "source": [
    "df[\"rating_x\"].describe()"
   ]
  },
  {
   "cell_type": "code",
   "execution_count": 93,
   "metadata": {},
   "outputs": [
    {
     "data": {
      "text/plain": [
       "634"
      ]
     },
     "execution_count": 93,
     "metadata": {},
     "output_type": "execute_result"
    }
   ],
   "source": [
    "df = df.sample(frac=0.0001, random_state=42) \n",
    "len(df)"
   ]
  },
  {
   "cell_type": "code",
   "execution_count": 94,
   "metadata": {},
   "outputs": [
    {
     "data": {
      "text/plain": [
       "Index(['user_id', 'anime_id', 'rating_x', 'name', 'genre', 'type', 'episodes',\n",
       "       'rating_y', 'members'],\n",
       "      dtype='object')"
      ]
     },
     "execution_count": 94,
     "metadata": {},
     "output_type": "execute_result"
    }
   ],
   "source": [
    "df.columns"
   ]
  },
  {
   "cell_type": "code",
   "execution_count": null,
   "metadata": {},
   "outputs": [],
   "source": []
  },
  {
   "cell_type": "code",
   "execution_count": 95,
   "metadata": {},
   "outputs": [
    {
     "data": {
      "text/plain": [
       "(634, 9)"
      ]
     },
     "execution_count": 95,
     "metadata": {},
     "output_type": "execute_result"
    }
   ],
   "source": [
    "df.shape"
   ]
  },
  {
   "cell_type": "code",
   "execution_count": 96,
   "metadata": {},
   "outputs": [
    {
     "data": {
      "text/html": [
       "<div>\n",
       "<style scoped>\n",
       "    .dataframe tbody tr th:only-of-type {\n",
       "        vertical-align: middle;\n",
       "    }\n",
       "\n",
       "    .dataframe tbody tr th {\n",
       "        vertical-align: top;\n",
       "    }\n",
       "\n",
       "    .dataframe thead th {\n",
       "        text-align: right;\n",
       "    }\n",
       "</style>\n",
       "<table border=\"1\" class=\"dataframe\">\n",
       "  <thead>\n",
       "    <tr style=\"text-align: right;\">\n",
       "      <th></th>\n",
       "      <th>rating_x</th>\n",
       "    </tr>\n",
       "    <tr>\n",
       "      <th>anime_id</th>\n",
       "      <th></th>\n",
       "    </tr>\n",
       "  </thead>\n",
       "  <tbody>\n",
       "    <tr>\n",
       "      <th>1</th>\n",
       "      <td>10.0</td>\n",
       "    </tr>\n",
       "    <tr>\n",
       "      <th>8038</th>\n",
       "      <td>10.0</td>\n",
       "    </tr>\n",
       "    <tr>\n",
       "      <th>6895</th>\n",
       "      <td>10.0</td>\n",
       "    </tr>\n",
       "    <tr>\n",
       "      <th>6500</th>\n",
       "      <td>10.0</td>\n",
       "    </tr>\n",
       "    <tr>\n",
       "      <th>6114</th>\n",
       "      <td>10.0</td>\n",
       "    </tr>\n",
       "    <tr>\n",
       "      <th>...</th>\n",
       "      <td>...</td>\n",
       "    </tr>\n",
       "    <tr>\n",
       "      <th>1117</th>\n",
       "      <td>4.0</td>\n",
       "    </tr>\n",
       "    <tr>\n",
       "      <th>1401</th>\n",
       "      <td>3.0</td>\n",
       "    </tr>\n",
       "    <tr>\n",
       "      <th>3772</th>\n",
       "      <td>3.0</td>\n",
       "    </tr>\n",
       "    <tr>\n",
       "      <th>7148</th>\n",
       "      <td>3.0</td>\n",
       "    </tr>\n",
       "    <tr>\n",
       "      <th>413</th>\n",
       "      <td>1.0</td>\n",
       "    </tr>\n",
       "  </tbody>\n",
       "</table>\n",
       "<p>510 rows × 1 columns</p>\n",
       "</div>"
      ],
      "text/plain": [
       "          rating_x\n",
       "anime_id          \n",
       "1             10.0\n",
       "8038          10.0\n",
       "6895          10.0\n",
       "6500          10.0\n",
       "6114          10.0\n",
       "...            ...\n",
       "1117           4.0\n",
       "1401           3.0\n",
       "3772           3.0\n",
       "7148           3.0\n",
       "413            1.0\n",
       "\n",
       "[510 rows x 1 columns]"
      ]
     },
     "execution_count": 96,
     "metadata": {},
     "output_type": "execute_result"
    }
   ],
   "source": [
    "mean_rating = df.groupby(\"anime_id\") [[\"rating_x\"]].mean()\n",
    "mean_rating.sort_values(by=\"rating_x\", ascending=False)"
   ]
  },
  {
   "cell_type": "code",
   "execution_count": 97,
   "metadata": {},
   "outputs": [
    {
     "data": {
      "text/plain": [
       "count    634.000000\n",
       "mean       7.843849\n",
       "std        1.464450\n",
       "min        1.000000\n",
       "25%        7.000000\n",
       "50%        8.000000\n",
       "75%        9.000000\n",
       "max       10.000000\n",
       "Name: rating_x, dtype: float64"
      ]
     },
     "execution_count": 97,
     "metadata": {},
     "output_type": "execute_result"
    }
   ],
   "source": [
    "df[\"rating_x\"].describe()"
   ]
  },
  {
   "cell_type": "markdown",
   "metadata": {},
   "source": [
    "## Mallinnus"
   ]
  },
  {
   "cell_type": "code",
   "execution_count": 98,
   "metadata": {},
   "outputs": [
    {
     "data": {
      "text/plain": [
       "<surprise.dataset.DatasetAutoFolds at 0x2ad2ebea000>"
      ]
     },
     "execution_count": 98,
     "metadata": {},
     "output_type": "execute_result"
    }
   ],
   "source": [
    "lukija = Reader(rating_scale=(1,10))\n",
    "data = Dataset.load_from_df(df[[\"user_id\", \"name\", \"rating_x\"]], lukija)\n",
    "data"
   ]
  },
  {
   "cell_type": "code",
   "execution_count": 99,
   "metadata": {},
   "outputs": [
    {
     "name": "stdout",
     "output_type": "stream",
     "text": [
      "<surprise.trainset.Trainset object at 0x000002AD2EBE9760>\n",
      "[(49782, 'Akazukin Chacha', 8.0), (66849, 'Carnival Phantasm', 8.0), (52624, 'Strike Witches OVA', 6.0), (32319, 'Kill la Kill', 7.0), (52419, 'Kyou kara Maou!', 7.0), (40389, 'Kono Minikuku mo Utsukushii Sekai', 7.0), (55290, 'Majin Tantei Nougami Neuro', 7.0), (66864, 'Death Note', 10.0), (65469, 'Shingeki no Kyojin Movie 1: Guren no Yumiya', 6.0), (72932, 'Kuroko no Basket: Mou Ikkai Yarimasen ka', 8.0), (35729, 'Hitsugi no Chaika', 8.0), (67617, 'Naruto Movie 2: Dai Gekitotsu! Maboroshi no Chiteiiseki Dattebayo!', 7.0), (55319, 'Love Hina Again', 6.0), (59837, 'Pandora Hearts', 7.0), (6014, 'Terra e... (TV)', 10.0), (40986, 'Soul Eater', 8.0), (73120, 'InuYasha', 8.0), (65840, 'Harmony', 9.0), (28192, 'Bokurano', 7.0), (36628, 'Rosario to Vampire Capu2', 9.0), (58703, 'Code Geass: Hangyaku no Lelouch R2', 9.0), (36132, 'Tokyo Ghoul: &quot;Jack&quot;', 9.0), (66298, 'High School DxD New', 8.0), (38997, 'Meganebu!', 5.0), (49167, 'Dog Days', 8.0), (44077, 'Hunter x Hunter', 9.0), (56157, 'Bakuman.', 10.0), (1117, 'Darker than Black: Kuro no Keiyakusha', 9.0), (6678, 'Samurai Champloo', 10.0), (19598, 'Akame ga Kill!', 8.0), (10440, 'Dragon Ball GT', 6.0), (48848, 'Shiki', 7.0), (56017, 'New Prince of Tennis', 8.0), (20741, 'Special A', 9.0), (28180, 'Amagi Brilliant Park', 9.0), (24039, 'Higurashi no Naku Koro ni Kai', 10.0), (18946, 'Air', 8.0), (47657, 'Kaze no Stigma', 7.0), (32884, 'Serial Experiments Lain', 8.0), (40044, '11eyes', 4.0), (31255, 'Pokemon', 7.0), (31073, 'Sora no Otoshimono', 7.0), (11044, 'Soul Eater', 7.0), (28903, 'Majin Tantei Nougami Neuro', 7.0), (20733, 'Jinsei', 9.0), (50205, 'Major S2', 8.0), (50974, 'Howl no Ugoku Shiro', 8.0), (46250, 'Aoi Sekai no Chuushin de', 9.0), (45733, 'Hana yori Dango', 10.0), (62461, 'Akagami no Shirayuki-hime', 7.0), (47537, 'High School DxD BorN', 10.0), (55388, 'Blood Lad: Wagahai wa Neko de wa Nai', 4.0), (35054, 'Seitokai Yakuindomo', 9.0), (64604, 'Ghost in the Shell: Stand Alone Complex 2nd GIG', 10.0), (26982, 'Gate: Jieitai Kanochi nite, Kaku Tatakaeri', 9.0), (11090, 'Cat Shit One', 9.0), (10659, 'Brothers Conflict', 6.0), (30496, 'Suisei no Gargantia', 8.0), (1737, 'Gunslinger Stratos: The Animation', 6.0), (21070, 'Ping Pong The Animation', 10.0), (39141, 'Vampire Knight Guilty', 6.0), (58606, 'First Kiss Monogatari', 5.0), (5057, 'Battle Programmer Shirase', 8.0), (14947, 'Sword Art Online', 9.0), (56266, 'Steins;Gate', 8.0), (4280, 'Ushinawareta Mirai wo Motomete', 9.0), (49048, 'Code Geass: Hangyaku no Lelouch', 8.0), (65237, 'Full Metal Panic! The Second Raid: Wari to Hima na Sentaichou no Ichinichi', 7.0), (62800, 'Hunter x Hunter (2011)', 10.0), (61752, 'Yowamushi Pedal', 9.0), (35746, 'Tengen Toppa Gurren Lagann', 8.0), (35833, 'Ansatsu Kyoushitsu', 5.0), (48876, 'Donten ni Warau', 7.0), (38123, 'Outbreak Company', 9.0), (10148, 'Sword Art Online', 7.0), (32395, 'Nisekoi:', 9.0), (1103, 'Sakurako-san no Ashimoto ni wa Shitai ga Umatteiru', 8.0), (31301, 'Scrapped Princess', 7.0), (4086, 'Black★Rock Shooter', 7.0), (1384, 'Cheonnyeon-yeowoo Yeowoobi', 9.0), (1036, 'Fate/stay night: Unlimited Blade Works 2nd Season', 8.0), (23753, 'Death Note', 7.0), (23069, 'Girls und Panzer: Shoukai Shimasu!', 7.0), (56252, 'Ao no Exorcist Movie', 9.0), (40402, 'Darker than Black: Kuro no Keiyakusha', 10.0), (5120, 'Moshidora', 9.0), (17149, 'Hyouka', 7.0), (46109, 'Persona 4 the Animation: The Factor of Hope', 7.0), (7728, 'Pokemon: Pikachu no Obake Carnival', 8.0), (64677, 'Yamada-kun to 7-nin no Majo (OVA)', 8.0), (26174, 'Break Blade 4: Sanka no Chi', 8.0), (30141, 'Sakura Trick', 6.0), (55616, 'Tetsuwan Birdy Decode', 8.0), (2562, 'Code Geass: Hangyaku no Lelouch R2', 10.0), (52741, 'Fate/Zero', 10.0), (16885, 'Evangelion: 2.0 You Can (Not) Advance', 8.0), (61163, 'Ajin', 7.0), (71974, 'Black Lagoon: The Second Barrage', 8.0), (62766, 'Durarara!!x2 Shou', 7.0), (64475, 'Btooom!', 7.0), (4862, 'Full Metal Panic!', 5.0), (15675, 'Shakugan no Shana', 9.0), (5174, 'Eureka Seven: Navigation ray=out', 10.0), (36111, 'Hanasaku Iroha', 9.0), (63491, 'Kuroko no Basket 3rd Season', 8.0), (58138, 'Code Geass: Hangyaku no Lelouch Recaps', 6.0), (47152, 'Kore wa Zombie Desu ka?', 8.0), (20766, 'Tamako Market', 7.0), (72932, 'Clannad: Mou Hitotsu no Sekai, Tomoyo-hen', 8.0), (21320, 'Chrno Crusade', 6.0), (52609, 'K-On!', 9.0), (22373, 'Shingeki! Kyojin Chuugakkou', 7.0), (26796, 'Oni Chichi', 10.0), (54558, 'Natsume Yuujinchou', 7.0), (73234, 'Darker than Black: Kuro no Keiyakusha', 8.0), (60222, 'Bible Black: New Testament', 3.0), (57667, 'Full Metal Panic! The Second Raid', 9.0), (63465, 'Dragon Ball Z Movie 08: Moetsukiro!! Nessen, Ressen, Chougekisen', 8.0), (28566, 'DearS', 5.0), (28069, 'Clannad', 9.0), (7794, 'Bleach Movie 1: Memories of Nobody', 6.0), (994, 'Yamato Nadeshiko Shichihenge♥', 10.0), (50396, 'Tears to Tiara', 10.0), (25563, 'Miracle☆Train: Oedo-sen e Youkoso', 9.0), (6747, 'Steins;Gate', 10.0), (8565, 'Dance in the Vampire Bund', 7.0), (47156, 'AKB0048', 8.0), (55161, 'Juubee Ninpuuchou', 10.0), (52975, 'Chobits', 8.0), (52246, 'Eikoku Koi Monogatari Emma', 7.0), (7889, 'Saber Marionette J Again', 7.0), (28797, 'Rosario to Vampire', 9.0), (7860, 'Higurashi no Naku Koro ni Kai', 8.0), (41635, 'Naruto: Shippuuden Movie 2 - Kizuna', 6.0), (34100, 'Shokugeki no Souma', 8.0), (20501, 'D.C.S.S: Da Capo Second Season', 7.0), (40474, 'Tamayura: Hitotose', 6.0), (57817, 'Kanon (2006)', 5.0), (57445, 'Higashi no Eden', 7.0), (33103, 'Ore no Imouto ga Konnani Kawaii Wake ga Nai. Specials', 7.0), (54572, 'Dragon Ball', 8.0), (69405, 'Naruto', 8.0), (23563, 'Baka to Test to Shoukanjuu', 10.0), (51421, 'Hametsu no Mars', 1.0), (9039, 'One Punch Man', 8.0), (22683, 'Tiger &amp; Bunny', 9.0), (17591, 'Chuunibyou demo Koi ga Shitai! Lite', 7.0), (32982, 'Akuma no Riddle', 6.0), (65903, 'Persona 3 the Movie 3: Falling Down', 5.0), (5675, 'Nichijou: Nichijou no 0-wa', 9.0), (40412, 'Shugo Chara! Party!', 7.0), (4691, 'Digimon Frontier', 8.0), (40419, 'Ashita no Nadja', 10.0), (7213, 'Nodame Cantabile Finale Special', 10.0), (2486, 'Dragon Ball', 8.0), (34057, 'Kuroko no Basket 3rd Season', 5.0), (8448, 'Chrome Shelled Regios', 7.0), (57327, 'Angel Heart', 9.0), (10645, 'Imouto de Ikou!', 5.0)]\n"
     ]
    }
   ],
   "source": [
    "# Set all data as training set >> tämän voi käyttää, jos riittävästi dataa\n",
    "from surprise.model_selection import train_test_split\n",
    "trainset, testset = train_test_split(data, test_size=0.25)\n",
    "print(trainset)\n",
    "print(testset)"
   ]
  },
  {
   "cell_type": "code",
   "execution_count": 100,
   "metadata": {},
   "outputs": [
    {
     "name": "stdout",
     "output_type": "stream",
     "text": [
      "Computing the msd similarity matrix...\n",
      "Done computing similarity matrix.\n"
     ]
    },
    {
     "data": {
      "text/plain": [
       "<surprise.prediction_algorithms.knns.KNNBasic at 0x2ad2ebea1b0>"
      ]
     },
     "execution_count": 100,
     "metadata": {},
     "output_type": "execute_result"
    }
   ],
   "source": [
    "# Build and train an algorithm.\n",
    "# Tarjotaan trainset algoritmille\n",
    "\n",
    "sim_options = {\"user_based\": True} # False compute similarities between items, True between customers\n",
    "\n",
    "algo = KNNBasic(sim_options=sim_options)\n",
    "algo.fit(trainset)"
   ]
  },
  {
   "cell_type": "code",
   "execution_count": 101,
   "metadata": {},
   "outputs": [
    {
     "data": {
      "text/plain": [
       "[Prediction(uid=49782, iid='Akazukin Chacha', r_ui=8.0, est=7.8715789473684215, details={'was_impossible': True, 'reason': 'User and/or item is unknown.'}),\n",
       " Prediction(uid=66849, iid='Carnival Phantasm', r_ui=8.0, est=7.8715789473684215, details={'was_impossible': True, 'reason': 'User and/or item is unknown.'}),\n",
       " Prediction(uid=52624, iid='Strike Witches OVA', r_ui=6.0, est=7.8715789473684215, details={'was_impossible': True, 'reason': 'User and/or item is unknown.'}),\n",
       " Prediction(uid=32319, iid='Kill la Kill', r_ui=7.0, est=7.8715789473684215, details={'was_impossible': True, 'reason': 'User and/or item is unknown.'}),\n",
       " Prediction(uid=52419, iid='Kyou kara Maou!', r_ui=7.0, est=7.8715789473684215, details={'was_impossible': True, 'reason': 'User and/or item is unknown.'}),\n",
       " Prediction(uid=40389, iid='Kono Minikuku mo Utsukushii Sekai', r_ui=7.0, est=7.8715789473684215, details={'was_impossible': True, 'reason': 'User and/or item is unknown.'}),\n",
       " Prediction(uid=55290, iid='Majin Tantei Nougami Neuro', r_ui=7.0, est=7.8715789473684215, details={'was_impossible': True, 'reason': 'User and/or item is unknown.'}),\n",
       " Prediction(uid=66864, iid='Death Note', r_ui=10.0, est=7.8715789473684215, details={'was_impossible': True, 'reason': 'User and/or item is unknown.'}),\n",
       " Prediction(uid=65469, iid='Shingeki no Kyojin Movie 1: Guren no Yumiya', r_ui=6.0, est=7.8715789473684215, details={'was_impossible': True, 'reason': 'User and/or item is unknown.'}),\n",
       " Prediction(uid=72932, iid='Kuroko no Basket: Mou Ikkai Yarimasen ka', r_ui=8.0, est=7.8715789473684215, details={'was_impossible': True, 'reason': 'User and/or item is unknown.'}),\n",
       " Prediction(uid=35729, iid='Hitsugi no Chaika', r_ui=8.0, est=7.8715789473684215, details={'was_impossible': True, 'reason': 'User and/or item is unknown.'}),\n",
       " Prediction(uid=67617, iid='Naruto Movie 2: Dai Gekitotsu! Maboroshi no Chiteiiseki Dattebayo!', r_ui=7.0, est=7.8715789473684215, details={'was_impossible': True, 'reason': 'User and/or item is unknown.'}),\n",
       " Prediction(uid=55319, iid='Love Hina Again', r_ui=6.0, est=7.8715789473684215, details={'was_impossible': True, 'reason': 'User and/or item is unknown.'}),\n",
       " Prediction(uid=59837, iid='Pandora Hearts', r_ui=7.0, est=7.8715789473684215, details={'was_impossible': True, 'reason': 'User and/or item is unknown.'}),\n",
       " Prediction(uid=6014, iid='Terra e... (TV)', r_ui=10.0, est=7.8715789473684215, details={'was_impossible': True, 'reason': 'User and/or item is unknown.'}),\n",
       " Prediction(uid=40986, iid='Soul Eater', r_ui=8.0, est=7.8715789473684215, details={'was_impossible': True, 'reason': 'User and/or item is unknown.'}),\n",
       " Prediction(uid=73120, iid='InuYasha', r_ui=8.0, est=7.8715789473684215, details={'was_impossible': True, 'reason': 'User and/or item is unknown.'}),\n",
       " Prediction(uid=65840, iid='Harmony', r_ui=9.0, est=7.8715789473684215, details={'was_impossible': True, 'reason': 'User and/or item is unknown.'}),\n",
       " Prediction(uid=28192, iid='Bokurano', r_ui=7.0, est=7.8715789473684215, details={'was_impossible': True, 'reason': 'User and/or item is unknown.'}),\n",
       " Prediction(uid=36628, iid='Rosario to Vampire Capu2', r_ui=9.0, est=7.8715789473684215, details={'was_impossible': True, 'reason': 'User and/or item is unknown.'})]"
      ]
     },
     "execution_count": 101,
     "metadata": {},
     "output_type": "execute_result"
    }
   ],
   "source": [
    "preds = algo.test(testset)\n",
    "preds[0:20]"
   ]
  },
  {
   "cell_type": "code",
   "execution_count": 102,
   "metadata": {},
   "outputs": [
    {
     "name": "stdout",
     "output_type": "stream",
     "text": [
      "Empty DataFrame\n",
      "Columns: [user_id, anime_id, rating_x, name, genre, type, episodes, rating_y, members]\n",
      "Index: []\n"
     ]
    }
   ],
   "source": [
    "user_id_to_search = 70740  # Replace with the specific user_id\n",
    "user_data = df[df['user_id'] == user_id_to_search]\n",
    "\n",
    "print(user_data)\n"
   ]
  }
 ],
 "metadata": {
  "kernelspec": {
   "display_name": "condaenv",
   "language": "python",
   "name": "python3"
  },
  "language_info": {
   "codemirror_mode": {
    "name": "ipython",
    "version": 3
   },
   "file_extension": ".py",
   "mimetype": "text/x-python",
   "name": "python",
   "nbconvert_exporter": "python",
   "pygments_lexer": "ipython3",
   "version": "3.12.7"
  }
 },
 "nbformat": 4,
 "nbformat_minor": 2
}
