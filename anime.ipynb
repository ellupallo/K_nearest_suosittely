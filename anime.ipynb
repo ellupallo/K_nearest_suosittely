{
 "cells": [
  {
   "cell_type": "code",
   "execution_count": 1,
   "metadata": {},
   "outputs": [],
   "source": [
    "import numpy as np\n",
    "import pandas as pd\n",
    "from collections import defaultdict\n",
    "\n",
    "from surprise import Reader\n",
    "from surprise import Dataset\n",
    "from surprise import KNNBasic\n",
    "from surprise.model_selection import cross_validate\n",
    "\n",
    "import pprint"
   ]
  },
  {
   "cell_type": "code",
   "execution_count": 2,
   "metadata": {},
   "outputs": [
    {
     "data": {
      "text/plain": [
       "(7813737, 3)"
      ]
     },
     "execution_count": 2,
     "metadata": {},
     "output_type": "execute_result"
    }
   ],
   "source": [
    "ratings_df = pd.read_csv(\"rating.csv\")\n",
    "ratings_df.shape"
   ]
  },
  {
   "cell_type": "code",
   "execution_count": 3,
   "metadata": {},
   "outputs": [
    {
     "data": {
      "text/html": [
       "<div>\n",
       "<style scoped>\n",
       "    .dataframe tbody tr th:only-of-type {\n",
       "        vertical-align: middle;\n",
       "    }\n",
       "\n",
       "    .dataframe tbody tr th {\n",
       "        vertical-align: top;\n",
       "    }\n",
       "\n",
       "    .dataframe thead th {\n",
       "        text-align: right;\n",
       "    }\n",
       "</style>\n",
       "<table border=\"1\" class=\"dataframe\">\n",
       "  <thead>\n",
       "    <tr style=\"text-align: right;\">\n",
       "      <th></th>\n",
       "      <th>user_id</th>\n",
       "      <th>anime_id</th>\n",
       "      <th>rating</th>\n",
       "    </tr>\n",
       "  </thead>\n",
       "  <tbody>\n",
       "    <tr>\n",
       "      <th>0</th>\n",
       "      <td>1</td>\n",
       "      <td>20</td>\n",
       "      <td>-1</td>\n",
       "    </tr>\n",
       "    <tr>\n",
       "      <th>1</th>\n",
       "      <td>1</td>\n",
       "      <td>24</td>\n",
       "      <td>-1</td>\n",
       "    </tr>\n",
       "    <tr>\n",
       "      <th>2</th>\n",
       "      <td>1</td>\n",
       "      <td>79</td>\n",
       "      <td>-1</td>\n",
       "    </tr>\n",
       "    <tr>\n",
       "      <th>3</th>\n",
       "      <td>1</td>\n",
       "      <td>226</td>\n",
       "      <td>-1</td>\n",
       "    </tr>\n",
       "    <tr>\n",
       "      <th>4</th>\n",
       "      <td>1</td>\n",
       "      <td>241</td>\n",
       "      <td>-1</td>\n",
       "    </tr>\n",
       "  </tbody>\n",
       "</table>\n",
       "</div>"
      ],
      "text/plain": [
       "   user_id  anime_id  rating\n",
       "0        1        20      -1\n",
       "1        1        24      -1\n",
       "2        1        79      -1\n",
       "3        1       226      -1\n",
       "4        1       241      -1"
      ]
     },
     "execution_count": 3,
     "metadata": {},
     "output_type": "execute_result"
    }
   ],
   "source": [
    "ratings_df.head(5)"
   ]
  },
  {
   "cell_type": "code",
   "execution_count": 4,
   "metadata": {},
   "outputs": [
    {
     "name": "stdout",
     "output_type": "stream",
     "text": [
      "rating\n",
      " 8     1646019\n",
      "-1     1476496\n",
      " 7     1375287\n",
      " 9     1254096\n",
      " 10     955715\n",
      " 6      637775\n",
      " 5      282806\n",
      " 4      104291\n",
      " 3       41453\n",
      " 2       23150\n",
      " 1       16649\n",
      "Name: count, dtype: int64\n"
     ]
    }
   ],
   "source": [
    "# ratings_df[\"rating\"].unique()\n",
    "\n",
    "total_ratings_count = ratings_df[\"rating\"].value_counts()\n",
    "print(total_ratings_count)"
   ]
  },
  {
   "cell_type": "code",
   "execution_count": 5,
   "metadata": {},
   "outputs": [],
   "source": [
    "# ratings_df = ratings_df[ratings_df.rating!=-1]"
   ]
  },
  {
   "cell_type": "code",
   "execution_count": 6,
   "metadata": {},
   "outputs": [],
   "source": [
    "# ratings_df.shape"
   ]
  },
  {
   "cell_type": "code",
   "execution_count": 7,
   "metadata": {},
   "outputs": [
    {
     "data": {
      "text/plain": [
       "(12294, 7)"
      ]
     },
     "execution_count": 7,
     "metadata": {},
     "output_type": "execute_result"
    }
   ],
   "source": [
    "anime_df = pd.read_csv(\"anime.csv\")\n",
    "anime_df.shape"
   ]
  },
  {
   "cell_type": "code",
   "execution_count": 8,
   "metadata": {},
   "outputs": [
    {
     "data": {
      "text/html": [
       "<div>\n",
       "<style scoped>\n",
       "    .dataframe tbody tr th:only-of-type {\n",
       "        vertical-align: middle;\n",
       "    }\n",
       "\n",
       "    .dataframe tbody tr th {\n",
       "        vertical-align: top;\n",
       "    }\n",
       "\n",
       "    .dataframe thead th {\n",
       "        text-align: right;\n",
       "    }\n",
       "</style>\n",
       "<table border=\"1\" class=\"dataframe\">\n",
       "  <thead>\n",
       "    <tr style=\"text-align: right;\">\n",
       "      <th></th>\n",
       "      <th>anime_id</th>\n",
       "      <th>name</th>\n",
       "      <th>genre</th>\n",
       "      <th>type</th>\n",
       "      <th>episodes</th>\n",
       "      <th>rating</th>\n",
       "      <th>members</th>\n",
       "    </tr>\n",
       "  </thead>\n",
       "  <tbody>\n",
       "    <tr>\n",
       "      <th>0</th>\n",
       "      <td>32281</td>\n",
       "      <td>Kimi no Na wa.</td>\n",
       "      <td>Drama, Romance, School, Supernatural</td>\n",
       "      <td>Movie</td>\n",
       "      <td>1</td>\n",
       "      <td>9.37</td>\n",
       "      <td>200630</td>\n",
       "    </tr>\n",
       "    <tr>\n",
       "      <th>1</th>\n",
       "      <td>5114</td>\n",
       "      <td>Fullmetal Alchemist: Brotherhood</td>\n",
       "      <td>Action, Adventure, Drama, Fantasy, Magic, Mili...</td>\n",
       "      <td>TV</td>\n",
       "      <td>64</td>\n",
       "      <td>9.26</td>\n",
       "      <td>793665</td>\n",
       "    </tr>\n",
       "    <tr>\n",
       "      <th>2</th>\n",
       "      <td>28977</td>\n",
       "      <td>Gintama°</td>\n",
       "      <td>Action, Comedy, Historical, Parody, Samurai, S...</td>\n",
       "      <td>TV</td>\n",
       "      <td>51</td>\n",
       "      <td>9.25</td>\n",
       "      <td>114262</td>\n",
       "    </tr>\n",
       "    <tr>\n",
       "      <th>3</th>\n",
       "      <td>9253</td>\n",
       "      <td>Steins;Gate</td>\n",
       "      <td>Sci-Fi, Thriller</td>\n",
       "      <td>TV</td>\n",
       "      <td>24</td>\n",
       "      <td>9.17</td>\n",
       "      <td>673572</td>\n",
       "    </tr>\n",
       "    <tr>\n",
       "      <th>4</th>\n",
       "      <td>9969</td>\n",
       "      <td>Gintama&amp;#039;</td>\n",
       "      <td>Action, Comedy, Historical, Parody, Samurai, S...</td>\n",
       "      <td>TV</td>\n",
       "      <td>51</td>\n",
       "      <td>9.16</td>\n",
       "      <td>151266</td>\n",
       "    </tr>\n",
       "  </tbody>\n",
       "</table>\n",
       "</div>"
      ],
      "text/plain": [
       "   anime_id                              name  \\\n",
       "0     32281                    Kimi no Na wa.   \n",
       "1      5114  Fullmetal Alchemist: Brotherhood   \n",
       "2     28977                          Gintama°   \n",
       "3      9253                       Steins;Gate   \n",
       "4      9969                     Gintama&#039;   \n",
       "\n",
       "                                               genre   type episodes  rating  \\\n",
       "0               Drama, Romance, School, Supernatural  Movie        1    9.37   \n",
       "1  Action, Adventure, Drama, Fantasy, Magic, Mili...     TV       64    9.26   \n",
       "2  Action, Comedy, Historical, Parody, Samurai, S...     TV       51    9.25   \n",
       "3                                   Sci-Fi, Thriller     TV       24    9.17   \n",
       "4  Action, Comedy, Historical, Parody, Samurai, S...     TV       51    9.16   \n",
       "\n",
       "   members  \n",
       "0   200630  \n",
       "1   793665  \n",
       "2   114262  \n",
       "3   673572  \n",
       "4   151266  "
      ]
     },
     "execution_count": 8,
     "metadata": {},
     "output_type": "execute_result"
    }
   ],
   "source": [
    "anime_df.head(5)"
   ]
  },
  {
   "cell_type": "code",
   "execution_count": 9,
   "metadata": {},
   "outputs": [
    {
     "data": {
      "text/html": [
       "<div>\n",
       "<style scoped>\n",
       "    .dataframe tbody tr th:only-of-type {\n",
       "        vertical-align: middle;\n",
       "    }\n",
       "\n",
       "    .dataframe tbody tr th {\n",
       "        vertical-align: top;\n",
       "    }\n",
       "\n",
       "    .dataframe thead th {\n",
       "        text-align: right;\n",
       "    }\n",
       "</style>\n",
       "<table border=\"1\" class=\"dataframe\">\n",
       "  <thead>\n",
       "    <tr style=\"text-align: right;\">\n",
       "      <th></th>\n",
       "      <th>user_id</th>\n",
       "      <th>anime_id</th>\n",
       "      <th>rating_x</th>\n",
       "      <th>name</th>\n",
       "      <th>genre</th>\n",
       "      <th>type</th>\n",
       "      <th>episodes</th>\n",
       "      <th>rating_y</th>\n",
       "      <th>members</th>\n",
       "    </tr>\n",
       "  </thead>\n",
       "  <tbody>\n",
       "    <tr>\n",
       "      <th>0</th>\n",
       "      <td>1</td>\n",
       "      <td>20</td>\n",
       "      <td>-1</td>\n",
       "      <td>Naruto</td>\n",
       "      <td>Action, Comedy, Martial Arts, Shounen, Super P...</td>\n",
       "      <td>TV</td>\n",
       "      <td>220</td>\n",
       "      <td>7.81</td>\n",
       "      <td>683297</td>\n",
       "    </tr>\n",
       "    <tr>\n",
       "      <th>1</th>\n",
       "      <td>1</td>\n",
       "      <td>24</td>\n",
       "      <td>-1</td>\n",
       "      <td>School Rumble</td>\n",
       "      <td>Comedy, Romance, School, Shounen</td>\n",
       "      <td>TV</td>\n",
       "      <td>26</td>\n",
       "      <td>8.06</td>\n",
       "      <td>178553</td>\n",
       "    </tr>\n",
       "    <tr>\n",
       "      <th>2</th>\n",
       "      <td>1</td>\n",
       "      <td>79</td>\n",
       "      <td>-1</td>\n",
       "      <td>Shuffle!</td>\n",
       "      <td>Comedy, Drama, Ecchi, Fantasy, Harem, Magic, R...</td>\n",
       "      <td>TV</td>\n",
       "      <td>24</td>\n",
       "      <td>7.31</td>\n",
       "      <td>158772</td>\n",
       "    </tr>\n",
       "    <tr>\n",
       "      <th>3</th>\n",
       "      <td>1</td>\n",
       "      <td>226</td>\n",
       "      <td>-1</td>\n",
       "      <td>Elfen Lied</td>\n",
       "      <td>Action, Drama, Horror, Psychological, Romance,...</td>\n",
       "      <td>TV</td>\n",
       "      <td>13</td>\n",
       "      <td>7.85</td>\n",
       "      <td>623511</td>\n",
       "    </tr>\n",
       "    <tr>\n",
       "      <th>4</th>\n",
       "      <td>1</td>\n",
       "      <td>241</td>\n",
       "      <td>-1</td>\n",
       "      <td>Girls Bravo: First Season</td>\n",
       "      <td>Comedy, Ecchi, Fantasy, Harem, Romance, School</td>\n",
       "      <td>TV</td>\n",
       "      <td>11</td>\n",
       "      <td>6.69</td>\n",
       "      <td>84395</td>\n",
       "    </tr>\n",
       "    <tr>\n",
       "      <th>...</th>\n",
       "      <td>...</td>\n",
       "      <td>...</td>\n",
       "      <td>...</td>\n",
       "      <td>...</td>\n",
       "      <td>...</td>\n",
       "      <td>...</td>\n",
       "      <td>...</td>\n",
       "      <td>...</td>\n",
       "      <td>...</td>\n",
       "    </tr>\n",
       "    <tr>\n",
       "      <th>7813722</th>\n",
       "      <td>73515</td>\n",
       "      <td>16512</td>\n",
       "      <td>7</td>\n",
       "      <td>Devil Survivor 2 The Animation</td>\n",
       "      <td>Action, Demons, Supernatural</td>\n",
       "      <td>TV</td>\n",
       "      <td>13</td>\n",
       "      <td>7.06</td>\n",
       "      <td>101266</td>\n",
       "    </tr>\n",
       "    <tr>\n",
       "      <th>7813723</th>\n",
       "      <td>73515</td>\n",
       "      <td>17187</td>\n",
       "      <td>9</td>\n",
       "      <td>Ghost in the Shell: Arise - Border:1 Ghost Pain</td>\n",
       "      <td>Mecha, Police, Psychological, Sci-Fi</td>\n",
       "      <td>Movie</td>\n",
       "      <td>1</td>\n",
       "      <td>7.64</td>\n",
       "      <td>31747</td>\n",
       "    </tr>\n",
       "    <tr>\n",
       "      <th>7813724</th>\n",
       "      <td>73515</td>\n",
       "      <td>22145</td>\n",
       "      <td>10</td>\n",
       "      <td>Kuroshitsuji: Book of Circus</td>\n",
       "      <td>Comedy, Demons, Fantasy, Historical, Shounen, ...</td>\n",
       "      <td>TV</td>\n",
       "      <td>10</td>\n",
       "      <td>8.37</td>\n",
       "      <td>122895</td>\n",
       "    </tr>\n",
       "    <tr>\n",
       "      <th>7813725</th>\n",
       "      <td>73516</td>\n",
       "      <td>790</td>\n",
       "      <td>9</td>\n",
       "      <td>Ergo Proxy</td>\n",
       "      <td>Mystery, Psychological, Sci-Fi</td>\n",
       "      <td>TV</td>\n",
       "      <td>23</td>\n",
       "      <td>8.03</td>\n",
       "      <td>265005</td>\n",
       "    </tr>\n",
       "    <tr>\n",
       "      <th>7813726</th>\n",
       "      <td>73516</td>\n",
       "      <td>8074</td>\n",
       "      <td>9</td>\n",
       "      <td>Highschool of the Dead</td>\n",
       "      <td>Action, Ecchi, Horror, Supernatural</td>\n",
       "      <td>TV</td>\n",
       "      <td>12</td>\n",
       "      <td>7.46</td>\n",
       "      <td>535892</td>\n",
       "    </tr>\n",
       "  </tbody>\n",
       "</table>\n",
       "<p>7813727 rows × 9 columns</p>\n",
       "</div>"
      ],
      "text/plain": [
       "         user_id  anime_id  rating_x  \\\n",
       "0              1        20        -1   \n",
       "1              1        24        -1   \n",
       "2              1        79        -1   \n",
       "3              1       226        -1   \n",
       "4              1       241        -1   \n",
       "...          ...       ...       ...   \n",
       "7813722    73515     16512         7   \n",
       "7813723    73515     17187         9   \n",
       "7813724    73515     22145        10   \n",
       "7813725    73516       790         9   \n",
       "7813726    73516      8074         9   \n",
       "\n",
       "                                                    name  \\\n",
       "0                                                 Naruto   \n",
       "1                                          School Rumble   \n",
       "2                                               Shuffle!   \n",
       "3                                             Elfen Lied   \n",
       "4                              Girls Bravo: First Season   \n",
       "...                                                  ...   \n",
       "7813722                   Devil Survivor 2 The Animation   \n",
       "7813723  Ghost in the Shell: Arise - Border:1 Ghost Pain   \n",
       "7813724                     Kuroshitsuji: Book of Circus   \n",
       "7813725                                       Ergo Proxy   \n",
       "7813726                           Highschool of the Dead   \n",
       "\n",
       "                                                     genre   type episodes  \\\n",
       "0        Action, Comedy, Martial Arts, Shounen, Super P...     TV      220   \n",
       "1                         Comedy, Romance, School, Shounen     TV       26   \n",
       "2        Comedy, Drama, Ecchi, Fantasy, Harem, Magic, R...     TV       24   \n",
       "3        Action, Drama, Horror, Psychological, Romance,...     TV       13   \n",
       "4           Comedy, Ecchi, Fantasy, Harem, Romance, School     TV       11   \n",
       "...                                                    ...    ...      ...   \n",
       "7813722                       Action, Demons, Supernatural     TV       13   \n",
       "7813723               Mecha, Police, Psychological, Sci-Fi  Movie        1   \n",
       "7813724  Comedy, Demons, Fantasy, Historical, Shounen, ...     TV       10   \n",
       "7813725                     Mystery, Psychological, Sci-Fi     TV       23   \n",
       "7813726                Action, Ecchi, Horror, Supernatural     TV       12   \n",
       "\n",
       "         rating_y  members  \n",
       "0            7.81   683297  \n",
       "1            8.06   178553  \n",
       "2            7.31   158772  \n",
       "3            7.85   623511  \n",
       "4            6.69    84395  \n",
       "...           ...      ...  \n",
       "7813722      7.06   101266  \n",
       "7813723      7.64    31747  \n",
       "7813724      8.37   122895  \n",
       "7813725      8.03   265005  \n",
       "7813726      7.46   535892  \n",
       "\n",
       "[7813727 rows x 9 columns]"
      ]
     },
     "execution_count": 9,
     "metadata": {},
     "output_type": "execute_result"
    }
   ],
   "source": [
    "df = ratings_df.merge(anime_df.drop_duplicates(), left_on=\"anime_id\", right_on= \"anime_id\", how=\"inner\")\n",
    "df"
   ]
  },
  {
   "cell_type": "code",
   "execution_count": 10,
   "metadata": {},
   "outputs": [
    {
     "data": {
      "text/plain": [
       "(7813727, 9)"
      ]
     },
     "execution_count": 10,
     "metadata": {},
     "output_type": "execute_result"
    }
   ],
   "source": [
    "df.shape"
   ]
  },
  {
   "cell_type": "code",
   "execution_count": 11,
   "metadata": {},
   "outputs": [
    {
     "data": {
      "text/html": [
       "<div>\n",
       "<style scoped>\n",
       "    .dataframe tbody tr th:only-of-type {\n",
       "        vertical-align: middle;\n",
       "    }\n",
       "\n",
       "    .dataframe tbody tr th {\n",
       "        vertical-align: top;\n",
       "    }\n",
       "\n",
       "    .dataframe thead th {\n",
       "        text-align: right;\n",
       "    }\n",
       "</style>\n",
       "<table border=\"1\" class=\"dataframe\">\n",
       "  <thead>\n",
       "    <tr style=\"text-align: right;\">\n",
       "      <th></th>\n",
       "      <th>user_id</th>\n",
       "      <th>anime_id</th>\n",
       "      <th>rating_x</th>\n",
       "      <th>name</th>\n",
       "      <th>genre</th>\n",
       "      <th>type</th>\n",
       "      <th>episodes</th>\n",
       "      <th>rating_y</th>\n",
       "      <th>members</th>\n",
       "    </tr>\n",
       "  </thead>\n",
       "  <tbody>\n",
       "    <tr>\n",
       "      <th>0</th>\n",
       "      <td>1</td>\n",
       "      <td>20</td>\n",
       "      <td>-1</td>\n",
       "      <td>Naruto</td>\n",
       "      <td>Action, Comedy, Martial Arts, Shounen, Super P...</td>\n",
       "      <td>TV</td>\n",
       "      <td>220</td>\n",
       "      <td>7.81</td>\n",
       "      <td>683297</td>\n",
       "    </tr>\n",
       "    <tr>\n",
       "      <th>1</th>\n",
       "      <td>1</td>\n",
       "      <td>24</td>\n",
       "      <td>-1</td>\n",
       "      <td>School Rumble</td>\n",
       "      <td>Comedy, Romance, School, Shounen</td>\n",
       "      <td>TV</td>\n",
       "      <td>26</td>\n",
       "      <td>8.06</td>\n",
       "      <td>178553</td>\n",
       "    </tr>\n",
       "    <tr>\n",
       "      <th>2</th>\n",
       "      <td>1</td>\n",
       "      <td>79</td>\n",
       "      <td>-1</td>\n",
       "      <td>Shuffle!</td>\n",
       "      <td>Comedy, Drama, Ecchi, Fantasy, Harem, Magic, R...</td>\n",
       "      <td>TV</td>\n",
       "      <td>24</td>\n",
       "      <td>7.31</td>\n",
       "      <td>158772</td>\n",
       "    </tr>\n",
       "    <tr>\n",
       "      <th>3</th>\n",
       "      <td>1</td>\n",
       "      <td>226</td>\n",
       "      <td>-1</td>\n",
       "      <td>Elfen Lied</td>\n",
       "      <td>Action, Drama, Horror, Psychological, Romance,...</td>\n",
       "      <td>TV</td>\n",
       "      <td>13</td>\n",
       "      <td>7.85</td>\n",
       "      <td>623511</td>\n",
       "    </tr>\n",
       "    <tr>\n",
       "      <th>4</th>\n",
       "      <td>1</td>\n",
       "      <td>241</td>\n",
       "      <td>-1</td>\n",
       "      <td>Girls Bravo: First Season</td>\n",
       "      <td>Comedy, Ecchi, Fantasy, Harem, Romance, School</td>\n",
       "      <td>TV</td>\n",
       "      <td>11</td>\n",
       "      <td>6.69</td>\n",
       "      <td>84395</td>\n",
       "    </tr>\n",
       "    <tr>\n",
       "      <th>...</th>\n",
       "      <td>...</td>\n",
       "      <td>...</td>\n",
       "      <td>...</td>\n",
       "      <td>...</td>\n",
       "      <td>...</td>\n",
       "      <td>...</td>\n",
       "      <td>...</td>\n",
       "      <td>...</td>\n",
       "      <td>...</td>\n",
       "    </tr>\n",
       "    <tr>\n",
       "      <th>7813722</th>\n",
       "      <td>73515</td>\n",
       "      <td>16512</td>\n",
       "      <td>7</td>\n",
       "      <td>Devil Survivor 2 The Animation</td>\n",
       "      <td>Action, Demons, Supernatural</td>\n",
       "      <td>TV</td>\n",
       "      <td>13</td>\n",
       "      <td>7.06</td>\n",
       "      <td>101266</td>\n",
       "    </tr>\n",
       "    <tr>\n",
       "      <th>7813723</th>\n",
       "      <td>73515</td>\n",
       "      <td>17187</td>\n",
       "      <td>9</td>\n",
       "      <td>Ghost in the Shell: Arise - Border:1 Ghost Pain</td>\n",
       "      <td>Mecha, Police, Psychological, Sci-Fi</td>\n",
       "      <td>Movie</td>\n",
       "      <td>1</td>\n",
       "      <td>7.64</td>\n",
       "      <td>31747</td>\n",
       "    </tr>\n",
       "    <tr>\n",
       "      <th>7813724</th>\n",
       "      <td>73515</td>\n",
       "      <td>22145</td>\n",
       "      <td>10</td>\n",
       "      <td>Kuroshitsuji: Book of Circus</td>\n",
       "      <td>Comedy, Demons, Fantasy, Historical, Shounen, ...</td>\n",
       "      <td>TV</td>\n",
       "      <td>10</td>\n",
       "      <td>8.37</td>\n",
       "      <td>122895</td>\n",
       "    </tr>\n",
       "    <tr>\n",
       "      <th>7813725</th>\n",
       "      <td>73516</td>\n",
       "      <td>790</td>\n",
       "      <td>9</td>\n",
       "      <td>Ergo Proxy</td>\n",
       "      <td>Mystery, Psychological, Sci-Fi</td>\n",
       "      <td>TV</td>\n",
       "      <td>23</td>\n",
       "      <td>8.03</td>\n",
       "      <td>265005</td>\n",
       "    </tr>\n",
       "    <tr>\n",
       "      <th>7813726</th>\n",
       "      <td>73516</td>\n",
       "      <td>8074</td>\n",
       "      <td>9</td>\n",
       "      <td>Highschool of the Dead</td>\n",
       "      <td>Action, Ecchi, Horror, Supernatural</td>\n",
       "      <td>TV</td>\n",
       "      <td>12</td>\n",
       "      <td>7.46</td>\n",
       "      <td>535892</td>\n",
       "    </tr>\n",
       "  </tbody>\n",
       "</table>\n",
       "<p>7813611 rows × 9 columns</p>\n",
       "</div>"
      ],
      "text/plain": [
       "         user_id  anime_id  rating_x  \\\n",
       "0              1        20        -1   \n",
       "1              1        24        -1   \n",
       "2              1        79        -1   \n",
       "3              1       226        -1   \n",
       "4              1       241        -1   \n",
       "...          ...       ...       ...   \n",
       "7813722    73515     16512         7   \n",
       "7813723    73515     17187         9   \n",
       "7813724    73515     22145        10   \n",
       "7813725    73516       790         9   \n",
       "7813726    73516      8074         9   \n",
       "\n",
       "                                                    name  \\\n",
       "0                                                 Naruto   \n",
       "1                                          School Rumble   \n",
       "2                                               Shuffle!   \n",
       "3                                             Elfen Lied   \n",
       "4                              Girls Bravo: First Season   \n",
       "...                                                  ...   \n",
       "7813722                   Devil Survivor 2 The Animation   \n",
       "7813723  Ghost in the Shell: Arise - Border:1 Ghost Pain   \n",
       "7813724                     Kuroshitsuji: Book of Circus   \n",
       "7813725                                       Ergo Proxy   \n",
       "7813726                           Highschool of the Dead   \n",
       "\n",
       "                                                     genre   type episodes  \\\n",
       "0        Action, Comedy, Martial Arts, Shounen, Super P...     TV      220   \n",
       "1                         Comedy, Romance, School, Shounen     TV       26   \n",
       "2        Comedy, Drama, Ecchi, Fantasy, Harem, Magic, R...     TV       24   \n",
       "3        Action, Drama, Horror, Psychological, Romance,...     TV       13   \n",
       "4           Comedy, Ecchi, Fantasy, Harem, Romance, School     TV       11   \n",
       "...                                                    ...    ...      ...   \n",
       "7813722                       Action, Demons, Supernatural     TV       13   \n",
       "7813723               Mecha, Police, Psychological, Sci-Fi  Movie        1   \n",
       "7813724  Comedy, Demons, Fantasy, Historical, Shounen, ...     TV       10   \n",
       "7813725                     Mystery, Psychological, Sci-Fi     TV       23   \n",
       "7813726                Action, Ecchi, Horror, Supernatural     TV       12   \n",
       "\n",
       "         rating_y  members  \n",
       "0            7.81   683297  \n",
       "1            8.06   178553  \n",
       "2            7.31   158772  \n",
       "3            7.85   623511  \n",
       "4            6.69    84395  \n",
       "...           ...      ...  \n",
       "7813722      7.06   101266  \n",
       "7813723      7.64    31747  \n",
       "7813724      8.37   122895  \n",
       "7813725      8.03   265005  \n",
       "7813726      7.46   535892  \n",
       "\n",
       "[7813611 rows x 9 columns]"
      ]
     },
     "execution_count": 11,
     "metadata": {},
     "output_type": "execute_result"
    }
   ],
   "source": [
    "df =df.dropna()\n",
    "df"
   ]
  },
  {
   "cell_type": "code",
   "execution_count": 12,
   "metadata": {},
   "outputs": [
    {
     "data": {
      "text/plain": [
       "(7813611, 9)"
      ]
     },
     "execution_count": 12,
     "metadata": {},
     "output_type": "execute_result"
    }
   ],
   "source": [
    "df.shape"
   ]
  },
  {
   "cell_type": "code",
   "execution_count": 13,
   "metadata": {},
   "outputs": [],
   "source": [
    "df = df[df.rating_x!=-1]"
   ]
  },
  {
   "cell_type": "code",
   "execution_count": 14,
   "metadata": {},
   "outputs": [
    {
     "data": {
      "text/plain": [
       "(6337146, 9)"
      ]
     },
     "execution_count": 14,
     "metadata": {},
     "output_type": "execute_result"
    }
   ],
   "source": [
    "df.shape"
   ]
  },
  {
   "cell_type": "code",
   "execution_count": 15,
   "metadata": {},
   "outputs": [
    {
     "name": "stdout",
     "output_type": "stream",
     "text": [
      "rating_x\n",
      "8     1646018\n",
      "7     1375277\n",
      "9     1254090\n",
      "10     955712\n",
      "6      637762\n",
      "5      282791\n",
      "4      104275\n",
      "3       41437\n",
      "2       23140\n",
      "1       16644\n",
      "Name: count, dtype: int64\n"
     ]
    }
   ],
   "source": [
    "total_ratings_count = df[\"rating_x\"].value_counts()\n",
    "print(total_ratings_count)"
   ]
  },
  {
   "cell_type": "code",
   "execution_count": 16,
   "metadata": {},
   "outputs": [
    {
     "data": {
      "text/plain": [
       "count    6.337146e+06\n",
       "mean     7.808543e+00\n",
       "std      1.572440e+00\n",
       "min      1.000000e+00\n",
       "25%      7.000000e+00\n",
       "50%      8.000000e+00\n",
       "75%      9.000000e+00\n",
       "max      1.000000e+01\n",
       "Name: rating_x, dtype: float64"
      ]
     },
     "execution_count": 16,
     "metadata": {},
     "output_type": "execute_result"
    }
   ],
   "source": [
    "df[\"rating_x\"].describe()"
   ]
  },
  {
   "cell_type": "markdown",
   "metadata": {},
   "source": [
    "## Samplen ottaminen"
   ]
  },
  {
   "cell_type": "code",
   "execution_count": 17,
   "metadata": {},
   "outputs": [],
   "source": [
    "# df = df.sample(frac=0.0001, random_state=42) \n",
    "df = df.sample(n=1000, random_state=42).reset_index(drop=True)  # Sample 6000 rows\n",
    "# df = df.sample(n=100000, random_state=42).reset_index(drop=True)  # Sample 6000 rows\n",
    "# df = df.head(100000)\n",
    "# # len(df)"
   ]
  },
  {
   "cell_type": "code",
   "execution_count": 18,
   "metadata": {},
   "outputs": [
    {
     "name": "stdout",
     "output_type": "stream",
     "text": [
      "   user_id  anime_id  rating_x                           name  \\\n",
      "0    27383      1557         6               Shounen Onmyouji   \n",
      "1     5899     12365         6            Bakuman. 3rd Season   \n",
      "2    31017       157         7           Mahou Sensei Negima!   \n",
      "3    53005       199         8  Sen to Chihiro no Kamikakushi   \n",
      "4    25989     10721         9             Mawaru Penguindrum   \n",
      "\n",
      "                                               genre   type episodes  \\\n",
      "0  Action, Demons, Fantasy, Historical, Magic, Sh...     TV       26   \n",
      "1                    Comedy, Drama, Romance, Shounen     TV       25   \n",
      "2  Comedy, Ecchi, Fantasy, Harem, Magic, Romance,...     TV       26   \n",
      "3                     Adventure, Drama, Supernatural  Movie        1   \n",
      "4              Comedy, Drama, Mystery, Psychological     TV       24   \n",
      "\n",
      "   rating_y  members  \n",
      "0      7.71    33321  \n",
      "1      8.71   133620  \n",
      "2      7.11    76253  \n",
      "3      8.93   466254  \n",
      "4      8.08   156689  \n",
      "RangeIndex(start=0, stop=1000, step=1)\n"
     ]
    }
   ],
   "source": [
    "print(df.head())  # Check the sampled data\n",
    "print(df.index)   # Ensure the index is reset (should start from 0)"
   ]
  },
  {
   "cell_type": "code",
   "execution_count": 19,
   "metadata": {},
   "outputs": [
    {
     "data": {
      "text/plain": [
       "Index(['user_id', 'anime_id', 'rating_x', 'name', 'genre', 'type', 'episodes',\n",
       "       'rating_y', 'members'],\n",
       "      dtype='object')"
      ]
     },
     "execution_count": 19,
     "metadata": {},
     "output_type": "execute_result"
    }
   ],
   "source": [
    "df.columns"
   ]
  },
  {
   "cell_type": "code",
   "execution_count": 20,
   "metadata": {},
   "outputs": [
    {
     "data": {
      "text/plain": [
       "(1000, 9)"
      ]
     },
     "execution_count": 20,
     "metadata": {},
     "output_type": "execute_result"
    }
   ],
   "source": [
    "df.shape"
   ]
  },
  {
   "cell_type": "code",
   "execution_count": 21,
   "metadata": {},
   "outputs": [
    {
     "data": {
      "text/html": [
       "<div>\n",
       "<style scoped>\n",
       "    .dataframe tbody tr th:only-of-type {\n",
       "        vertical-align: middle;\n",
       "    }\n",
       "\n",
       "    .dataframe tbody tr th {\n",
       "        vertical-align: top;\n",
       "    }\n",
       "\n",
       "    .dataframe thead th {\n",
       "        text-align: right;\n",
       "    }\n",
       "</style>\n",
       "<table border=\"1\" class=\"dataframe\">\n",
       "  <thead>\n",
       "    <tr style=\"text-align: right;\">\n",
       "      <th></th>\n",
       "      <th>rating_x</th>\n",
       "    </tr>\n",
       "    <tr>\n",
       "      <th>anime_id</th>\n",
       "      <th></th>\n",
       "    </tr>\n",
       "  </thead>\n",
       "  <tbody>\n",
       "    <tr>\n",
       "      <th>11843</th>\n",
       "      <td>10.0</td>\n",
       "    </tr>\n",
       "    <tr>\n",
       "      <th>834</th>\n",
       "      <td>10.0</td>\n",
       "    </tr>\n",
       "    <tr>\n",
       "      <th>15583</th>\n",
       "      <td>10.0</td>\n",
       "    </tr>\n",
       "    <tr>\n",
       "      <th>873</th>\n",
       "      <td>10.0</td>\n",
       "    </tr>\n",
       "    <tr>\n",
       "      <th>16051</th>\n",
       "      <td>10.0</td>\n",
       "    </tr>\n",
       "    <tr>\n",
       "      <th>...</th>\n",
       "      <td>...</td>\n",
       "    </tr>\n",
       "    <tr>\n",
       "      <th>916</th>\n",
       "      <td>3.0</td>\n",
       "    </tr>\n",
       "    <tr>\n",
       "      <th>2890</th>\n",
       "      <td>3.0</td>\n",
       "    </tr>\n",
       "    <tr>\n",
       "      <th>5530</th>\n",
       "      <td>3.0</td>\n",
       "    </tr>\n",
       "    <tr>\n",
       "      <th>417</th>\n",
       "      <td>2.0</td>\n",
       "    </tr>\n",
       "    <tr>\n",
       "      <th>3914</th>\n",
       "      <td>1.0</td>\n",
       "    </tr>\n",
       "  </tbody>\n",
       "</table>\n",
       "<p>722 rows × 1 columns</p>\n",
       "</div>"
      ],
      "text/plain": [
       "          rating_x\n",
       "anime_id          \n",
       "11843         10.0\n",
       "834           10.0\n",
       "15583         10.0\n",
       "873           10.0\n",
       "16051         10.0\n",
       "...            ...\n",
       "916            3.0\n",
       "2890           3.0\n",
       "5530           3.0\n",
       "417            2.0\n",
       "3914           1.0\n",
       "\n",
       "[722 rows x 1 columns]"
      ]
     },
     "execution_count": 21,
     "metadata": {},
     "output_type": "execute_result"
    }
   ],
   "source": [
    "mean_rating = df.groupby(\"anime_id\") [[\"rating_x\"]].mean()\n",
    "mean_rating.sort_values(by=\"rating_x\", ascending=False)"
   ]
  },
  {
   "cell_type": "code",
   "execution_count": 22,
   "metadata": {},
   "outputs": [
    {
     "data": {
      "text/plain": [
       "count    1000.000000\n",
       "mean        7.786000\n",
       "std         1.592086\n",
       "min         1.000000\n",
       "25%         7.000000\n",
       "50%         8.000000\n",
       "75%         9.000000\n",
       "max        10.000000\n",
       "Name: rating_x, dtype: float64"
      ]
     },
     "execution_count": 22,
     "metadata": {},
     "output_type": "execute_result"
    }
   ],
   "source": [
    "df[\"rating_x\"].describe()"
   ]
  },
  {
   "cell_type": "markdown",
   "metadata": {},
   "source": [
    "## Mallinnus"
   ]
  },
  {
   "cell_type": "code",
   "execution_count": 23,
   "metadata": {},
   "outputs": [
    {
     "data": {
      "text/plain": [
       "<surprise.dataset.DatasetAutoFolds at 0x26acf042de0>"
      ]
     },
     "execution_count": 23,
     "metadata": {},
     "output_type": "execute_result"
    }
   ],
   "source": [
    "lukija = Reader(rating_scale=(1,10))\n",
    "data = Dataset.load_from_df(df[[\"user_id\", \"name\", \"rating_x\"]], lukija)\n",
    "data"
   ]
  },
  {
   "cell_type": "code",
   "execution_count": 24,
   "metadata": {},
   "outputs": [
    {
     "name": "stdout",
     "output_type": "stream",
     "text": [
      "<surprise.trainset.Trainset object at 0x0000026ACDE9E5D0>\n",
      "[(33650, 'Murder Princess', 8.0), (29135, 'Clannad', 10.0), (4004, 'Yu☆Gi☆Oh!: Duel Monsters GX', 8.0), (67829, 'Re:Zero kara Hajimeru Isekai Seikatsu', 9.0), (58587, 'Gantz 2nd Stage', 8.0), (46373, 'Tamako Love Story', 8.0), (55313, 'Rurouni Kenshin: Meiji Kenkaku Romantan - Tsuioku-hen', 8.0), (41084, 'Sonic X', 6.0), (8346, 'Cowboy Bebop: Tengoku no Tobira', 8.0), (44887, 'FLCL', 8.0), (43701, 'Naruto: Shippuuden Movie 5 - Blood Prison', 8.0), (72814, 'Steins;Gate Movie: Fuka Ryouiki no Déjà vu', 10.0), (47531, 'Clannad', 9.0), (49173, 'Ghost in the Shell: Stand Alone Complex - Tachikoma na Hibi', 7.0), (58903, 'Elfen Lied Special', 10.0), (49408, 'Star Ocean EX', 6.0), (48302, 'Kimi no Iru Machi', 7.0), (47175, 'School Rumble', 7.0), (67749, 'Kaichuu!', 6.0), (11858, 'Hajime no Ippo', 10.0), (27671, 'Detective Conan Movie 06: The Phantom of Baker Street', 8.0), (70854, 'Prison School', 8.0), (18985, 'Hikaru no Go', 8.0), (67086, 'Strike the Blood', 9.0), (53337, 'Slayers: The Motion Picture', 5.0), (17088, 'UN-GO: Inga-ron', 7.0), (25267, 'Vampire Knight', 9.0), (56393, 'Sayonara Zetsubou Sensei', 8.0), (27425, 'Gin no Saji', 7.0), (51316, 'Scrapped Princess', 10.0), (21966, 'Top wo Nerae! Gunbuster', 7.0), (36152, 'Super Lovers', 6.0), (49344, 'Bleach: Memories in the Rain', 6.0), (4893, 'Black★Rock Shooter (OVA)', 7.0), (46418, 'Musaigen no Phantom World', 8.0), (59063, 'Street Fighter II: The Movie', 8.0), (55463, 'Planetarian: Chiisana Hoshi no Yume', 9.0), (61018, 'Black Lagoon', 9.0), (71256, 'Nourin', 10.0), (27983, 'Bakuten Shoot Beyblade', 5.0), (67505, 'Yu☆Gi☆Oh!', 7.0), (15844, 'Clannad: After Story', 7.0), (60576, 'Midori no Hibi', 7.0), (27145, 'Shingeki no Kyojin', 9.0), (17146, 'Hanasakeru Seishounen', 9.0), (8020, 'Bleach Movie 3: Fade to Black - Kimi no Na wo Yobu', 9.0), (70707, 'Hyouka', 8.0), (59663, 'Mononoke Hime', 9.0), (17672, 's.CRY.ed', 9.0), (1287, 'World Trigger', 9.0), (56408, 'Hunter x Hunter OVA', 9.0), (72814, 'Denpa Kyoushi (TV)', 6.0), (69427, 'Marmalade Boy', 8.0), (31017, 'Kore ga Watashi no Goshujinsama', 8.0), (26804, 'Kimi no Iru Machi: Tasogare Kousaten', 9.0), (26731, 'Toaru Majutsu no Index-tan II', 10.0), (10472, 'Gilgamesh', 10.0), (58496, 'Kogepan', 5.0), (60877, 'Ghost in the Shell: Stand Alone Complex - Solid State Society', 10.0), (49277, 'Kurau Phantom Memory', 7.0), (14390, 'Tonari no Kaibutsu-kun', 7.0), (57731, 'Lodoss-tou Senki: Eiyuu Kishi Den', 5.0), (50601, 'Speed Grapher', 9.0), (47803, 'Ookami to Koushinryou II', 8.0), (25015, 'Tenchi Muyou! Ryououki 2nd Season Picture Drama', 9.0), (43966, 'Fullmetal Alchemist: The Sacred Star of Milos', 6.0), (35199, 'Blame! Special', 5.0), (20765, 'Hetalia Axis Powers Movie: Paint it, White', 10.0), (36374, 'Zetman', 7.0), (1644, 'Kimi to Boku.', 8.0), (14024, 'Takanashi Rikka Kai: Chuunibyou demo Koi ga Shitai! Movie', 10.0), (41298, 'Bakuman.', 7.0), (7913, 'Rurouni Kenshin: Meiji Kenkaku Romantan - Seisou-hen', 9.0), (62012, 'Toradora!', 10.0), (56247, 'Zetsuen no Tempest', 6.0), (16228, 'No.6', 7.0), (45297, 'Sakurasou no Pet na Kanojo', 9.0), (68243, 'Baka to Test to Shoukanjuu: Matsuri - Sentaku ni Yotte Tenkai ga Kawaru &quot;LIPS Eizou&quot;', 10.0), (43496, 'Kill la Kill', 10.0), (70016, 'Hajime no Ippo', 7.0), (4870, 'Appleseed (Movie)', 8.0), (48923, 'Hourou Musuko', 7.0), (58434, 'Murder Princess', 8.0), (21280, 'Magi: The Labyrinth of Magic', 9.0), (31574, 'Fairy Tail', 8.0), (46024, 'Code Geass: Hangyaku no Lelouch', 10.0), (58424, 'Kami nomi zo Shiru Sekai II', 8.0), (55243, 'R.O.D the TV', 8.0), (6825, 'Slam Dunk', 8.0), (27997, 'Black★Rock Shooter (OVA)', 6.0), (36916, 'Noblesse: Pamyeol-ui Sijak', 8.0), (233, 'Log Horizon', 10.0), (23421, 'Hellsing Ultimate', 8.0), (33480, 'Arakawa Under the Bridge x Bridge', 7.0), (25178, 'Detective Conan Movie 10: Requiem of the Detectives', 8.0), (33968, 'Denpa Onna to Seishun Otoko', 7.0), (51018, 'Log Horizon 2nd Season', 7.0), (23146, 'Hoshi wo Ou Kodomo', 9.0), (57335, 'Tonari no Totoro', 8.0), (29690, 'Kokoro Connect', 10.0), (17597, 'Tengen Toppa Gurren Lagann', 10.0), (32829, 'Kaichou wa Maid-sama!', 8.0), (46277, 'Hyakujitsu no Bara', 4.0), (30095, 'Black★Rock Shooter', 9.0), (63408, 'Kuusen Madoushi Kouhosei no Kyoukan', 6.0), (27662, 'Kara no Kyoukai 5: Mujun Rasen', 10.0), (70507, 'Tenjou Tenge: The Ultimate Fight', 8.0), (35061, 'Zero no Tsukaima F', 7.0), (26186, 'Ichiban Ushiro no Daimaou', 7.0), (6385, 'Strange Dawn', 5.0), (19317, 'Saint☆Oniisan (Movie)', 8.0), (44835, 'Arve Rezzle: Kikaijikake no Yousei-tachi', 8.0), (21538, 'Tengen Toppa Gurren Lagann: Mitee Mono wa Miteen da!!', 9.0), (30193, 'Yamada-kun to 7-nin no Majo', 6.0), (62488, 'Kill la Kill', 8.0), (39917, 'Kumo no Mukou, Yakusoku no Basho', 10.0), (27087, 'Chi&#039;s Sweet Home', 10.0), (59552, 'Chikyuu Shoujo Arjuna', 9.0), (38523, 'Ore no Imouto ga Konnani Kawaii Wake ga Nai.', 6.0), (39496, 'Kurozuka', 6.0), (16624, 'Pokemon Advanced Generation: Nanayo no Negaiboshi Jirachi', 8.0), (47394, 'Brothers Conflict', 4.0), (30081, 'Elfen Lied', 6.0), (4322, 'Suzumiya Haruhi no Yuuutsu', 9.0), (5711, 'After War Gundam X', 8.0), (55244, 'School Days', 10.0), (23486, 'Shakugan no Shana III (Final)', 8.0), (48342, 'Kenzen Robo Daimidaler', 9.0), (14672, 'Elfen Lied', 9.0), (59157, 'Rozen Maiden: Ouvertüre', 6.0), (49874, 'Kara no Kyoukai 2: Satsujin Kousatsu (Zen)', 7.0), (50751, 'Soul Eater', 9.0), (73319, 'Bishoujo Senshi Sailor Moon R', 8.0), (59569, 'Denpa-teki na Kanojo', 8.0), (19830, 'Digimon Adventure 02 Movies', 6.0), (6568, 'Shakugan no Shana', 7.0), (56346, 'Death Parade', 7.0), (22227, 'Kaze no Tani no Nausicaä', 8.0), (60016, 'Sonic★the★Hedgehog', 7.0), (51497, 'Shakugan no Shana II (Second)', 10.0), (58438, 'Uta no☆Prince-sama♪ Maji Love 1000%', 5.0), (58473, 'Gekkan Shoujo Nozaki-kun', 8.0), (29902, 'Kyoukai no Kanata Movie: I&#039;ll Be Here - Kako-hen', 7.0), (22940, 'Hetalia Axis Powers', 9.0), (13726, 'Evangelion: 2.0 You Can (Not) Advance', 8.0), (10264, 'Macross F', 7.0), (32899, 'Himouto! Umaru-chanS', 7.0), (17578, 'Fairy Tail x Rave', 10.0), (69509, 'Sword Art Online: Extra Edition', 8.0), (27572, 'Toradora!', 9.0), (68022, 'Darker than Black: Ryuusei no Gemini', 6.0), (44826, 'Higashi no Eden Movie II: Paradise Lost', 8.0), (11830, 'Kaichou wa Maid-sama!', 10.0), (12224, 'Fairy Tail', 9.0), (62032, 'Rosario to Vampire Capu2', 5.0), (44735, 'Naruto: Shippuuden Movie 2 - Kizuna', 6.0), (53176, 'Mushishi Special: Hihamukage', 8.0), (2827, 'Amagi Brilliant Park', 7.0), (58560, 'Lodoss-tou Senki', 7.0), (37818, 'Code Geass: Hangyaku no Lelouch R2', 9.0), (29498, 'Baka to Test to Shoukanjuu', 8.0), (51138, 'Hoshi no Koe', 8.0), (25691, 'Noragami Aragoto', 9.0), (19437, 'Mayo Chiki!', 8.0), (19827, 'Tsukimonogatari', 9.0), (65869, 'Sousei no Aquarion', 7.0), (59144, 'Taifuu no Noruda', 5.0), (51449, 'Mitsu x Mitsu Drops', 6.0), (30777, 'Tsuritama', 10.0), (24364, 'Darker than Black: Kuro no Keiyakusha', 10.0), (741, 'Denpa-teki na Kanojo', 9.0), (46445, 'Shinrei Tantei Yakumo', 7.0), (42688, 'Boku wa Tomodachi ga Sukunai', 6.0), (68154, 'Fullmetal Alchemist: Brotherhood', 8.0), (41818, 'Sakamoto desu ga?', 7.0), (19320, 'Kill la Kill', 10.0), (12736, 'Papa no Iukoto wo Kikinasai!: Pokkapoka', 8.0), (19104, 'Touhou Niji Sousaku Doujin Anime: Musou Kakyou Special', 7.0), (47767, 'The iDOLM@STER Movie: Kagayaki no Mukougawa e!', 6.0), (3831, 'Campione!: Matsurowanu Kamigami to Kamigoroshi no Maou', 8.0), (35323, 'Another', 7.0), (53864, 'Planetarian: Chiisana Hoshi no Yume', 9.0), (53967, 'Junjou Romantica Special', 8.0), (66130, 'Hiyokoi', 6.0), (68211, 'Arcana Famiglia', 6.0), (47995, 'Inugami-san to Nekoyama-san Special', 7.0), (18993, 'Eve no Jikan (Movie)', 9.0), (45064, 'Trinity Seven', 6.0), (3739, 'Another', 8.0), (33000, 'Mahou Shoujo Madoka★Magica', 9.0), (35611, 'Dakara Boku wa, H ga Dekinai.', 6.0), (48215, 'Arcana Famiglia', 9.0), (32819, 'Death Note', 9.0), (17017, 'Naruto: Shippuuden Movie 4 - The Lost Tower', 7.0), (49803, 'Baka to Test to Shoukanjuu', 8.0), (60641, 'Death Note', 9.0), (26773, 'Danna ga Nani wo Itteiru ka Wakaranai Ken 2 Sure-me', 8.0), (54884, 'Murder Princess', 7.0), (4339, 'Digimon Tamers: Bousou Digimon Tokkyuu', 7.0), (17155, 'Kaichou wa Maid-sama!', 9.0), (47106, 'To LOVE-Ru', 8.0), (48636, 'Lucky☆Star', 6.0), (22661, 'High School DxD', 7.0), (57847, 'Hyakko', 6.0), (3324, 'Mahouka Koukou no Rettousei', 8.0), (20420, 'Koe de Oshigoto! The Animation', 10.0), (53005, 'Sen to Chihiro no Kamikakushi', 8.0), (25645, 'Kono Naka ni Hitori, Imouto ga Iru!', 6.0), (23862, 'Code Geass: Hangyaku no Lelouch', 10.0), (50399, 'Ushio to Tora', 7.0), (71400, 'Boruto: Naruto the Movie', 5.0), (271, 'Ore no Nounai Sentakushi ga, Gakuen Love Comedy wo Zenryoku de Jama Shiteiru', 10.0), (34412, 'Fruits Basket', 10.0), (1456, 'Kyousou Giga (TV)', 9.0), (53405, 'Gingitsune', 8.0), (7438, 'Kore ga Watashi no Goshujinsama', 3.0), (36660, 'Claymore', 9.0), (12610, 'Ore no Imouto ga Konnani Kawaii Wake ga Nai', 8.0), (16410, 'Densetsu no Yuusha no Densetsu', 8.0), (68240, 'IS: Infinite Stratos Encore - Koi ni Kogareru Rokujuusou', 7.0), (5346, 'HenSemi (TV)', 7.0), (11574, 'Toaru Majutsu no Index', 8.0), (2863, 'Seitokai Yakuindomo*', 8.0), (43560, 'Seikon no Qwaser II Picture Drama', 7.0), (19652, 'Kimi ni Todoke 2nd Season: Kataomoi', 8.0), (23193, 'Ano Natsu de Matteru', 7.0), (29126, 'Oneechan ga Kita', 7.0), (52464, 'Slam Dunk', 9.0), (45371, 'Stranger: Mukou Hadan', 9.0), (65869, 'Blassreiter', 7.0), (33847, 'Vampire Knight', 8.0), (27393, 'Bokura wa Minna Kawaisou', 8.0), (16226, 'Hidan no Aria Special', 6.0), (42115, 'Angel Beats!', 9.0), (65571, 'Diabolik Lovers', 3.0), (5166, 'Code Geass: Hangyaku no Lelouch', 8.0), (49149, 'Gakuen Alice', 7.0), (6628, 'True Tears', 5.0), (53362, 'Kaichou wa Maid-sama!', 9.0), (26687, 'Tamako Market Specials', 8.0), (56283, 'Mimi wo Sumaseba', 10.0), (28006, 'Toradora!', 8.0), (58332, 'Mobile Suit Gundam Seed', 10.0), (23631, 'Shin Strange+', 6.0), (62050, 'Kyoukai no Kanata Movie: I&#039;ll Be Here - Kako-hen', 8.0), (10278, 'Happy☆Lesson: The Final', 7.0), (58725, 'Sousei no Aquarion', 8.0), (27052, 'Sekaiichi Hatsukoi 2', 9.0), (73103, 'Dragon Ball GT', 6.0), (44929, 'Arve Rezzle: Kikaijikake no Yousei-tachi', 5.0)]\n"
     ]
    }
   ],
   "source": [
    "# Set all data as training set >> tämän voi käyttää, jos riittävästi dataa\n",
    "from surprise.model_selection import train_test_split\n",
    "trainset, testset = train_test_split(data, test_size=0.25)\n",
    "print(trainset)\n",
    "print(testset)"
   ]
  },
  {
   "cell_type": "code",
   "execution_count": 25,
   "metadata": {},
   "outputs": [
    {
     "name": "stdout",
     "output_type": "stream",
     "text": [
      "Computing the msd similarity matrix...\n",
      "Done computing similarity matrix.\n"
     ]
    },
    {
     "data": {
      "text/plain": [
       "<surprise.prediction_algorithms.knns.KNNBasic at 0x26accafb1d0>"
      ]
     },
     "execution_count": 25,
     "metadata": {},
     "output_type": "execute_result"
    }
   ],
   "source": [
    "# Build and train an algorithm.\n",
    "# # Tarjotaan trainset algoritmille\n",
    "\n",
    "# sim_options = {\n",
    "#     \"name\": \"cosine\",\n",
    "#     \"user_based\": True,\n",
    "#     \"min_support\": True,\n",
    "#     \"min_K\": 3\n",
    "#     }\n",
    "\n",
    "\n",
    "sim_options = {\"user_based\": True} # False compute similarities between items, True between customers\n",
    "\n",
    "algo = KNNBasic(sim_options=sim_options)\n",
    "algo.fit(trainset)"
   ]
  },
  {
   "cell_type": "code",
   "execution_count": 26,
   "metadata": {},
   "outputs": [
    {
     "data": {
      "text/plain": [
       "[Prediction(uid=33650, iid='Murder Princess', r_ui=8.0, est=7.781333333333333, details={'was_impossible': True, 'reason': 'User and/or item is unknown.'}),\n",
       " Prediction(uid=29135, iid='Clannad', r_ui=10.0, est=7.781333333333333, details={'was_impossible': True, 'reason': 'User and/or item is unknown.'}),\n",
       " Prediction(uid=4004, iid='Yu☆Gi☆Oh!: Duel Monsters GX', r_ui=8.0, est=7.781333333333333, details={'was_impossible': True, 'reason': 'User and/or item is unknown.'}),\n",
       " Prediction(uid=67829, iid='Re:Zero kara Hajimeru Isekai Seikatsu', r_ui=9.0, est=7.781333333333333, details={'was_impossible': True, 'reason': 'User and/or item is unknown.'}),\n",
       " Prediction(uid=58587, iid='Gantz 2nd Stage', r_ui=8.0, est=7.781333333333333, details={'was_impossible': True, 'reason': 'User and/or item is unknown.'}),\n",
       " Prediction(uid=46373, iid='Tamako Love Story', r_ui=8.0, est=7.781333333333333, details={'was_impossible': True, 'reason': 'User and/or item is unknown.'}),\n",
       " Prediction(uid=55313, iid='Rurouni Kenshin: Meiji Kenkaku Romantan - Tsuioku-hen', r_ui=8.0, est=7.781333333333333, details={'was_impossible': True, 'reason': 'User and/or item is unknown.'}),\n",
       " Prediction(uid=41084, iid='Sonic X', r_ui=6.0, est=7.781333333333333, details={'was_impossible': True, 'reason': 'User and/or item is unknown.'}),\n",
       " Prediction(uid=8346, iid='Cowboy Bebop: Tengoku no Tobira', r_ui=8.0, est=7.781333333333333, details={'was_impossible': True, 'reason': 'User and/or item is unknown.'}),\n",
       " Prediction(uid=44887, iid='FLCL', r_ui=8.0, est=7.781333333333333, details={'was_impossible': True, 'reason': 'User and/or item is unknown.'}),\n",
       " Prediction(uid=43701, iid='Naruto: Shippuuden Movie 5 - Blood Prison', r_ui=8.0, est=7.781333333333333, details={'was_impossible': True, 'reason': 'User and/or item is unknown.'}),\n",
       " Prediction(uid=72814, iid='Steins;Gate Movie: Fuka Ryouiki no Déjà vu', r_ui=10.0, est=7.781333333333333, details={'was_impossible': True, 'reason': 'User and/or item is unknown.'}),\n",
       " Prediction(uid=47531, iid='Clannad', r_ui=9.0, est=7.781333333333333, details={'was_impossible': True, 'reason': 'User and/or item is unknown.'}),\n",
       " Prediction(uid=49173, iid='Ghost in the Shell: Stand Alone Complex - Tachikoma na Hibi', r_ui=7.0, est=7.781333333333333, details={'was_impossible': True, 'reason': 'User and/or item is unknown.'}),\n",
       " Prediction(uid=58903, iid='Elfen Lied Special', r_ui=10.0, est=7.781333333333333, details={'was_impossible': True, 'reason': 'User and/or item is unknown.'}),\n",
       " Prediction(uid=49408, iid='Star Ocean EX', r_ui=6.0, est=7.781333333333333, details={'was_impossible': True, 'reason': 'User and/or item is unknown.'}),\n",
       " Prediction(uid=48302, iid='Kimi no Iru Machi', r_ui=7.0, est=7.781333333333333, details={'was_impossible': True, 'reason': 'User and/or item is unknown.'}),\n",
       " Prediction(uid=47175, iid='School Rumble', r_ui=7.0, est=7.781333333333333, details={'was_impossible': True, 'reason': 'User and/or item is unknown.'}),\n",
       " Prediction(uid=67749, iid='Kaichuu!', r_ui=6.0, est=7.781333333333333, details={'was_impossible': True, 'reason': 'User and/or item is unknown.'}),\n",
       " Prediction(uid=11858, iid='Hajime no Ippo', r_ui=10.0, est=7.781333333333333, details={'was_impossible': True, 'reason': 'User and/or item is unknown.'})]"
      ]
     },
     "execution_count": 26,
     "metadata": {},
     "output_type": "execute_result"
    }
   ],
   "source": [
    "preds = algo.test(testset)\n",
    "preds[0:20]"
   ]
  },
  {
   "cell_type": "code",
   "execution_count": 27,
   "metadata": {},
   "outputs": [
    {
     "name": "stdout",
     "output_type": "stream",
     "text": [
      "Empty DataFrame\n",
      "Columns: [user_id, anime_id, rating_x, name, genre, type, episodes, rating_y, members]\n",
      "Index: []\n"
     ]
    }
   ],
   "source": [
    "user_id_to_search = 4341  # Replace with the specific user_id\n",
    "user_data = df[df['user_id'] == user_id_to_search]\n",
    "\n",
    "print(user_data)\n"
   ]
  },
  {
   "cell_type": "markdown",
   "metadata": {},
   "source": [
    "Mean Absolute Error (MAE)\n",
    "Root Mean Squared Error (RMSE):\n",
    "The algorithm shows moderate variability across the three folds, with an average RMSE of approximately 1.6, indicating the typical magnitude of error. MAE provides a complementary perspective, indicating an average absolute error of approximately 1.26."
   ]
  },
  {
   "cell_type": "code",
   "execution_count": 28,
   "metadata": {},
   "outputs": [
    {
     "name": "stdout",
     "output_type": "stream",
     "text": [
      "Computing the msd similarity matrix...\n",
      "Done computing similarity matrix.\n",
      "Computing the msd similarity matrix...\n",
      "Done computing similarity matrix.\n",
      "Computing the msd similarity matrix...\n",
      "Done computing similarity matrix.\n",
      "Evaluating MAE, RMSE of algorithm KNNBasic on 3 split(s).\n",
      "\n",
      "                  Fold 1  Fold 2  Fold 3  Mean    Std     \n",
      "MAE (testset)     1.3338  1.1914  1.2396  1.2549  0.0591  \n",
      "RMSE (testset)    1.6972  1.4947  1.5774  1.5898  0.0831  \n",
      "Fit time          0.01    0.01    0.00    0.01    0.00    \n",
      "Test time         0.00    0.00    0.00    0.00    0.00    \n"
     ]
    },
    {
     "data": {
      "text/plain": [
       "{'test_mae': array([1.3337649 , 1.19144032, 1.23963244]),\n",
       " 'test_rmse': array([1.69719011, 1.49469572, 1.57740926]),\n",
       " 'fit_time': (0.007548332214355469,\n",
       "  0.006983280181884766,\n",
       "  0.004953861236572266),\n",
       " 'test_time': (0.002207040786743164,\n",
       "  0.0010006427764892578,\n",
       "  0.0010051727294921875)}"
      ]
     },
     "execution_count": 28,
     "metadata": {},
     "output_type": "execute_result"
    }
   ],
   "source": [
    "cross_validate(algo, data, measures=[\"MAE\", \"RMSE\"], cv=3, verbose=True)"
   ]
  },
  {
   "cell_type": "code",
   "execution_count": 29,
   "metadata": {},
   "outputs": [
    {
     "name": "stdout",
     "output_type": "stream",
     "text": [
      "Total 'was_impossible=True': 250\n",
      "Reasons and their counts:\n",
      "User and/or item is unknown.: 248\n",
      "Not enough neighbors.: 2\n"
     ]
    }
   ],
   "source": [
    "from collections import Counter\n",
    "\n",
    "# Analyze preds for impossible predictions\n",
    "was_impossible = [pred.details.get('reason', 'Unknown') for pred in preds if pred.details.get('was_impossible')]\n",
    "\n",
    "# Count the reasons\n",
    "reason_counts = Counter(was_impossible)\n",
    "\n",
    "# Output results\n",
    "print(\"Total 'was_impossible=True':\", len(was_impossible))\n",
    "print(\"Reasons and their counts:\")\n",
    "for reason, count in reason_counts.items():\n",
    "    print(f\"{reason}: {count}\")\n",
    "\n"
   ]
  },
  {
   "cell_type": "code",
   "execution_count": 30,
   "metadata": {},
   "outputs": [
    {
     "name": "stdout",
     "output_type": "stream",
     "text": [
      "Total predictions after filtering: 0\n"
     ]
    }
   ],
   "source": [
    "# Filter out predictions where 'was_impossible' is True\n",
    "filtered_preds = [pred for pred in preds if not pred.details.get('was_impossible', False)]\n",
    "\n",
    "# Check the number of filtered predictions\n",
    "print(\"Total predictions after filtering:\", len(filtered_preds))\n"
   ]
  },
  {
   "cell_type": "markdown",
   "metadata": {},
   "source": [
    "### SVD yritys"
   ]
  },
  {
   "cell_type": "code",
   "execution_count": 31,
   "metadata": {},
   "outputs": [],
   "source": [
    "# from surprise import SVD\n",
    "# import sys\n",
    "# import surprise\n",
    "\n",
    "# from recommenders.utils.timer import Timer\n",
    "# from recommenders.datasets import movielens\n",
    "# from recommenders.datasets.python_splitters import python_random_split\n",
    "# from recommenders.evaluation.python_evaluation import (\n",
    "#     rmse,\n",
    "#     mae,\n",
    "#     rsquared,\n",
    "#     exp_var,\n",
    "#     map_at_k,\n",
    "#     ndcg_at_k,\n",
    "#     precision_at_k,\n",
    "#     recall_at_k,\n",
    "#     get_top_k_items,\n",
    "# )\n",
    "# from recommenders.models.surprise.surprise_utils import (\n",
    "#     predict,\n",
    "#     compute_ranking_predictions,\n",
    "# )\n",
    "# from recommenders.utils.notebook_utils import store_metadata\n",
    "\n",
    "\n",
    "# print(f\"System version: {sys.version}\")\n",
    "# print(f\"Surprise version: {surprise.__version__}\")\n",
    "\n"
   ]
  },
  {
   "cell_type": "code",
   "execution_count": 32,
   "metadata": {},
   "outputs": [],
   "source": [
    "# train, test = python_random_split(df, 0.75)"
   ]
  }
 ],
 "metadata": {
  "kernelspec": {
   "display_name": "condaenv",
   "language": "python",
   "name": "python3"
  },
  "language_info": {
   "codemirror_mode": {
    "name": "ipython",
    "version": 3
   },
   "file_extension": ".py",
   "mimetype": "text/x-python",
   "name": "python",
   "nbconvert_exporter": "python",
   "pygments_lexer": "ipython3",
   "version": "3.12.7"
  }
 },
 "nbformat": 4,
 "nbformat_minor": 2
}
