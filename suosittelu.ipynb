{
 "cells": [
  {
   "cell_type": "code",
   "execution_count": 1,
   "metadata": {},
   "outputs": [],
   "source": [
    "# numpy 2. jotain tulee condan asennuksessa, vaikka ei näy listauksessa, tämä koodi downgradeaa sen\n",
    "\n",
    "# import pip\n",
    "# pip.main(['install', 'numpy<2'])\n",
    "# import numpy as np\n",
    "# print(np.__version__)"
   ]
  },
  {
   "cell_type": "markdown",
   "metadata": {},
   "source": [
    "### Surprise sopii käyttäjien arvioiden perusteella suosittelun ennustamiseen"
   ]
  },
  {
   "cell_type": "markdown",
   "metadata": {},
   "source": [
    "https://surprise.readthedocs.io/en/stable/"
   ]
  },
  {
   "cell_type": "code",
   "execution_count": 2,
   "metadata": {},
   "outputs": [],
   "source": [
    "# # (conda_env) U:\\Users\\ok025980>conda install -n conda_env -c conda-forge scikit-surprise\n",
    "from surprise import Reader\n",
    "from surprise import Dataset"
   ]
  },
  {
   "cell_type": "code",
   "execution_count": 3,
   "metadata": {},
   "outputs": [],
   "source": [
    "import numpy as np\n",
    "import pandas as pd\n",
    "from collections import defaultdict\n",
    "from surprise import KNNBasic\n",
    "from surprise.model_selection import cross_validate\n",
    "import pprint"
   ]
  },
  {
   "cell_type": "code",
   "execution_count": 4,
   "metadata": {},
   "outputs": [
    {
     "data": {
      "text/html": [
       "<div>\n",
       "<style scoped>\n",
       "    .dataframe tbody tr th:only-of-type {\n",
       "        vertical-align: middle;\n",
       "    }\n",
       "\n",
       "    .dataframe tbody tr th {\n",
       "        vertical-align: top;\n",
       "    }\n",
       "\n",
       "    .dataframe thead th {\n",
       "        text-align: right;\n",
       "    }\n",
       "</style>\n",
       "<table border=\"1\" class=\"dataframe\">\n",
       "  <thead>\n",
       "    <tr style=\"text-align: right;\">\n",
       "      <th></th>\n",
       "      <th>itemid</th>\n",
       "      <th>userid</th>\n",
       "      <th>rating</th>\n",
       "    </tr>\n",
       "  </thead>\n",
       "  <tbody>\n",
       "    <tr>\n",
       "      <th>0</th>\n",
       "      <td>Tuote1</td>\n",
       "      <td>Maria</td>\n",
       "      <td>1</td>\n",
       "    </tr>\n",
       "    <tr>\n",
       "      <th>1</th>\n",
       "      <td>Tuote2</td>\n",
       "      <td>Maria</td>\n",
       "      <td>1</td>\n",
       "    </tr>\n",
       "    <tr>\n",
       "      <th>2</th>\n",
       "      <td>Tuote3</td>\n",
       "      <td>Maria</td>\n",
       "      <td>5</td>\n",
       "    </tr>\n",
       "    <tr>\n",
       "      <th>3</th>\n",
       "      <td>Tuote4</td>\n",
       "      <td>Maria</td>\n",
       "      <td>5</td>\n",
       "    </tr>\n",
       "    <tr>\n",
       "      <th>4</th>\n",
       "      <td>Tuote1</td>\n",
       "      <td>Timo</td>\n",
       "      <td>5</td>\n",
       "    </tr>\n",
       "    <tr>\n",
       "      <th>5</th>\n",
       "      <td>Tuote2</td>\n",
       "      <td>Timo</td>\n",
       "      <td>5</td>\n",
       "    </tr>\n",
       "    <tr>\n",
       "      <th>6</th>\n",
       "      <td>Tuote3</td>\n",
       "      <td>Timo</td>\n",
       "      <td>2</td>\n",
       "    </tr>\n",
       "    <tr>\n",
       "      <th>7</th>\n",
       "      <td>Tuote4</td>\n",
       "      <td>Timo</td>\n",
       "      <td>2</td>\n",
       "    </tr>\n",
       "    <tr>\n",
       "      <th>8</th>\n",
       "      <td>Tuote1</td>\n",
       "      <td>Arttu</td>\n",
       "      <td>5</td>\n",
       "    </tr>\n",
       "    <tr>\n",
       "      <th>9</th>\n",
       "      <td>Tuote3</td>\n",
       "      <td>Leo</td>\n",
       "      <td>5</td>\n",
       "    </tr>\n",
       "    <tr>\n",
       "      <th>10</th>\n",
       "      <td>Tuote2</td>\n",
       "      <td>Leo</td>\n",
       "      <td>1</td>\n",
       "    </tr>\n",
       "    <tr>\n",
       "      <th>11</th>\n",
       "      <td>Tuote1</td>\n",
       "      <td>Anna</td>\n",
       "      <td>2</td>\n",
       "    </tr>\n",
       "    <tr>\n",
       "      <th>12</th>\n",
       "      <td>Tuote4</td>\n",
       "      <td>Anna</td>\n",
       "      <td>4</td>\n",
       "    </tr>\n",
       "    <tr>\n",
       "      <th>13</th>\n",
       "      <td>Tuote1</td>\n",
       "      <td>Saara</td>\n",
       "      <td>1</td>\n",
       "    </tr>\n",
       "    <tr>\n",
       "      <th>14</th>\n",
       "      <td>Tuote2</td>\n",
       "      <td>Saara</td>\n",
       "      <td>1</td>\n",
       "    </tr>\n",
       "    <tr>\n",
       "      <th>15</th>\n",
       "      <td>Tuote3</td>\n",
       "      <td>Saara</td>\n",
       "      <td>5</td>\n",
       "    </tr>\n",
       "  </tbody>\n",
       "</table>\n",
       "</div>"
      ],
      "text/plain": [
       "    itemid userid  rating\n",
       "0   Tuote1  Maria       1\n",
       "1   Tuote2  Maria       1\n",
       "2   Tuote3  Maria       5\n",
       "3   Tuote4  Maria       5\n",
       "4   Tuote1   Timo       5\n",
       "5   Tuote2   Timo       5\n",
       "6   Tuote3   Timo       2\n",
       "7   Tuote4   Timo       2\n",
       "8   Tuote1  Arttu       5\n",
       "9   Tuote3    Leo       5\n",
       "10  Tuote2    Leo       1\n",
       "11  Tuote1   Anna       2\n",
       "12  Tuote4   Anna       4\n",
       "13  Tuote1  Saara       1\n",
       "14  Tuote2  Saara       1\n",
       "15  Tuote3  Saara       5"
      ]
     },
     "execution_count": 4,
     "metadata": {},
     "output_type": "execute_result"
    }
   ],
   "source": [
    "# Luodaan dataframe dictionarysta pandas\n",
    "\n",
    "# dictionaryn luominen\n",
    "ratings = {'itemid': ['Tuote1', 'Tuote2', 'Tuote3', 'Tuote4', 'Tuote1', 'Tuote2', 'Tuote3', 'Tuote4', 'Tuote1', 'Tuote3', 'Tuote2', 'Tuote1', 'Tuote4','Tuote1','Tuote2','Tuote3'],\n",
    "           'userid': ['Maria', 'Maria', 'Maria', 'Maria', 'Timo', 'Timo', 'Timo', 'Timo', 'Arttu','Leo', 'Leo', 'Anna', 'Anna', 'Saara', 'Saara', 'Saara'],\n",
    "           'rating': [1,1,5,5,5,5,2,2,5,5,1,2,4,1,1,5]}\n",
    "# dictin kääntäminen dataframeksi\n",
    "df = pd.DataFrame(ratings)\n",
    "df\n"
   ]
  },
  {
   "cell_type": "code",
   "execution_count": 5,
   "metadata": {},
   "outputs": [
    {
     "data": {
      "text/plain": [
       "itemid  rating\n",
       "Tuote1  1         2\n",
       "        5         2\n",
       "        2         1\n",
       "Tuote2  1         3\n",
       "        5         1\n",
       "Tuote3  5         3\n",
       "        2         1\n",
       "Tuote4  2         1\n",
       "        4         1\n",
       "        5         1\n",
       "Name: count, dtype: int64"
      ]
     },
     "execution_count": 5,
     "metadata": {},
     "output_type": "execute_result"
    }
   ],
   "source": [
    "# x = df.groupby(\"itemid\")[[\"rating\"]].value_counts()\n",
    "# x\n",
    "x = df.groupby(\"itemid\")[\"rating\"].value_counts()\n",
    "x\n"
   ]
  },
  {
   "cell_type": "code",
   "execution_count": 6,
   "metadata": {},
   "outputs": [
    {
     "data": {
      "text/plain": [
       "itemid  rating  userid\n",
       "Tuote1  1       Maria     1\n",
       "                Saara     1\n",
       "        2       Anna      1\n",
       "        5       Arttu     1\n",
       "                Timo      1\n",
       "Tuote2  1       Leo       1\n",
       "                Maria     1\n",
       "                Saara     1\n",
       "        5       Timo      1\n",
       "Tuote3  2       Timo      1\n",
       "        5       Leo       1\n",
       "                Maria     1\n",
       "                Saara     1\n",
       "Tuote4  2       Timo      1\n",
       "        4       Anna      1\n",
       "        5       Maria     1\n",
       "Name: count, dtype: int64"
      ]
     },
     "execution_count": 6,
     "metadata": {},
     "output_type": "execute_result"
    }
   ],
   "source": [
    "x2 = df.groupby([\"itemid\",\"rating\"]).value_counts()\n",
    "x2"
   ]
  },
  {
   "cell_type": "code",
   "execution_count": 7,
   "metadata": {},
   "outputs": [
    {
     "data": {
      "text/plain": [
       "userid  itemid  rating\n",
       "Anna    Tuote1  2         1\n",
       "        Tuote4  4         1\n",
       "Arttu   Tuote1  5         1\n",
       "Leo     Tuote2  1         1\n",
       "        Tuote3  5         1\n",
       "Maria   Tuote1  1         1\n",
       "        Tuote2  1         1\n",
       "        Tuote3  5         1\n",
       "        Tuote4  5         1\n",
       "Saara   Tuote1  1         1\n",
       "        Tuote2  1         1\n",
       "        Tuote3  5         1\n",
       "Timo    Tuote1  5         1\n",
       "        Tuote2  5         1\n",
       "        Tuote3  2         1\n",
       "        Tuote4  2         1\n",
       "Name: count, dtype: int64"
      ]
     },
     "execution_count": 7,
     "metadata": {},
     "output_type": "execute_result"
    }
   ],
   "source": [
    "x3 = df.groupby([\"userid\",\"itemid\"]).value_counts()\n",
    "x3"
   ]
  },
  {
   "cell_type": "code",
   "execution_count": 8,
   "metadata": {},
   "outputs": [
    {
     "name": "stdout",
     "output_type": "stream",
     "text": [
      "3.125\n"
     ]
    },
    {
     "data": {
      "text/html": [
       "<div>\n",
       "<style scoped>\n",
       "    .dataframe tbody tr th:only-of-type {\n",
       "        vertical-align: middle;\n",
       "    }\n",
       "\n",
       "    .dataframe tbody tr th {\n",
       "        vertical-align: top;\n",
       "    }\n",
       "\n",
       "    .dataframe thead th {\n",
       "        text-align: right;\n",
       "    }\n",
       "</style>\n",
       "<table border=\"1\" class=\"dataframe\">\n",
       "  <thead>\n",
       "    <tr style=\"text-align: right;\">\n",
       "      <th></th>\n",
       "      <th>rating</th>\n",
       "    </tr>\n",
       "    <tr>\n",
       "      <th>itemid</th>\n",
       "      <th></th>\n",
       "    </tr>\n",
       "  </thead>\n",
       "  <tbody>\n",
       "    <tr>\n",
       "      <th>Tuote3</th>\n",
       "      <td>4.250000</td>\n",
       "    </tr>\n",
       "    <tr>\n",
       "      <th>Tuote4</th>\n",
       "      <td>3.666667</td>\n",
       "    </tr>\n",
       "    <tr>\n",
       "      <th>Tuote1</th>\n",
       "      <td>2.800000</td>\n",
       "    </tr>\n",
       "    <tr>\n",
       "      <th>Tuote2</th>\n",
       "      <td>2.000000</td>\n",
       "    </tr>\n",
       "  </tbody>\n",
       "</table>\n",
       "</div>"
      ],
      "text/plain": [
       "          rating\n",
       "itemid          \n",
       "Tuote3  4.250000\n",
       "Tuote4  3.666667\n",
       "Tuote1  2.800000\n",
       "Tuote2  2.000000"
      ]
     },
     "execution_count": 8,
     "metadata": {},
     "output_type": "execute_result"
    }
   ],
   "source": [
    "# mean_rating = df.groupby(\"itemid\")[[\"rating\"]].mean()\n",
    "# mean_rating.sort_values(by='rating', ascending=False)\n",
    "mean_all = df[\"rating\"].mean()\n",
    "print(mean_all)\n",
    "mean_rating = df.groupby(\"itemid\")[[\"rating\"]].mean()\n",
    "mean_rating.sort_values(by='rating', ascending=False)\n",
    "\n"
   ]
  },
  {
   "cell_type": "markdown",
   "metadata": {},
   "source": [
    "## Mallinnus"
   ]
  },
  {
   "cell_type": "markdown",
   "metadata": {},
   "source": [
    "Readerin rakentaminen"
   ]
  },
  {
   "cell_type": "code",
   "execution_count": 9,
   "metadata": {},
   "outputs": [
    {
     "data": {
      "text/plain": [
       "<surprise.dataset.DatasetAutoFolds at 0x1a19728c6e0>"
      ]
     },
     "execution_count": 9,
     "metadata": {},
     "output_type": "execute_result"
    }
   ],
   "source": [
    "lukija = Reader(rating_scale=(1,5))\n",
    "data = Dataset.load_from_df(df[[\"userid\", \"itemid\", \"rating\"]], lukija)\n",
    "data"
   ]
  },
  {
   "cell_type": "markdown",
   "metadata": {},
   "source": [
    "Trainssetin rakentaminen"
   ]
  },
  {
   "cell_type": "code",
   "execution_count": 10,
   "metadata": {},
   "outputs": [],
   "source": [
    "# # Set all data as training set >> tämän voi käyttää, jos riittävästi dataa\n",
    "# from surprise.model_selection import train_test_split\n",
    "# trainset, testset = train_test_split(data, test_size=0.25)\n",
    "# print(trainset)\n",
    "# print(testset)"
   ]
  },
  {
   "cell_type": "code",
   "execution_count": 11,
   "metadata": {},
   "outputs": [
    {
     "data": {
      "text/plain": [
       "<surprise.trainset.Trainset at 0x1a19718be30>"
      ]
     },
     "execution_count": 11,
     "metadata": {},
     "output_type": "execute_result"
    }
   ],
   "source": [
    "# Set all data as training set\n",
    "trainset = data.build_full_trainset()\n",
    "trainset"
   ]
  },
  {
   "cell_type": "markdown",
   "metadata": {},
   "source": [
    "Algoritmin rakentaminen"
   ]
  },
  {
   "cell_type": "code",
   "execution_count": 12,
   "metadata": {},
   "outputs": [
    {
     "name": "stdout",
     "output_type": "stream",
     "text": [
      "Computing the msd similarity matrix...\n",
      "Done computing similarity matrix.\n"
     ]
    },
    {
     "data": {
      "text/plain": [
       "<surprise.prediction_algorithms.knns.KNNBasic at 0x1a195d57e30>"
      ]
     },
     "execution_count": 12,
     "metadata": {},
     "output_type": "execute_result"
    }
   ],
   "source": [
    "# Build and train an algorithm.\n",
    "# Tarjotaan trainset algoritmille\n",
    "\n",
    "sim_options = {\"user_based\": True} # False compute similarities between items, True between customers\n",
    "\n",
    "algo = KNNBasic(sim_options=sim_options)\n",
    "algo.fit(trainset)"
   ]
  },
  {
   "cell_type": "markdown",
   "metadata": {},
   "source": [
    "Testaus"
   ]
  },
  {
   "cell_type": "code",
   "execution_count": 13,
   "metadata": {},
   "outputs": [
    {
     "name": "stdout",
     "output_type": "stream",
     "text": [
      "user: Leo        item: Tuote3     r_ui = 5.00   est = 4.93   {'actual_k': 4, 'was_impossible': False}\n"
     ]
    }
   ],
   "source": [
    "user_id = \"Leo\"\n",
    "item_id = \"Tuote3\"\n",
    "\n",
    "pred = algo.predict(user_id, item_id, r_ui=5, verbose=True) # r_ui = real ui value"
   ]
  },
  {
   "cell_type": "code",
   "execution_count": 14,
   "metadata": {},
   "outputs": [
    {
     "name": "stdout",
     "output_type": "stream",
     "text": [
      "user: Timo       item: Tuote3     r_ui = 2.00   est = 2.53   {'actual_k': 4, 'was_impossible': False}\n"
     ]
    }
   ],
   "source": [
    "user_id = \"Timo\"\n",
    "item_id = \"Tuote3\"\n",
    "\n",
    "pred = algo.predict(user_id, item_id, r_ui=2, verbose=True) # r_ui = real ui value"
   ]
  },
  {
   "cell_type": "code",
   "execution_count": 15,
   "metadata": {},
   "outputs": [
    {
     "name": "stdout",
     "output_type": "stream",
     "text": [
      "user: Maria      item: Tuote1     r_ui = 1.00   est = 1.39   {'actual_k': 5, 'was_impossible': False}\n"
     ]
    }
   ],
   "source": [
    "user_id = \"Maria\"\n",
    "item_id = \"Tuote1\"\n",
    "\n",
    "pred = algo.predict(user_id, item_id, r_ui=1, verbose=True) # r_ui = real ui value"
   ]
  },
  {
   "cell_type": "code",
   "execution_count": 16,
   "metadata": {},
   "outputs": [
    {
     "name": "stdout",
     "output_type": "stream",
     "text": [
      "user: Arttu      item: Tuote2     r_ui = 3.12   est = 4.58   {'actual_k': 3, 'was_impossible': False}\n",
      "user: Arttu      item: Tuote3     r_ui = 3.12   est = 2.32   {'actual_k': 3, 'was_impossible': False}\n",
      "user: Arttu      item: Tuote4     r_ui = 3.12   est = 2.32   {'actual_k': 3, 'was_impossible': False}\n",
      "user: Leo        item: Tuote1     r_ui = 3.12   est = 1.14   {'actual_k': 3, 'was_impossible': False}\n",
      "user: Leo        item: Tuote4     r_ui = 3.12   est = 4.79   {'actual_k': 2, 'was_impossible': False}\n",
      "user: Anna       item: Tuote2     r_ui = 3.12   est = 1.47   {'actual_k': 3, 'was_impossible': False}\n",
      "user: Anna       item: Tuote3     r_ui = 3.12   est = 4.65   {'actual_k': 3, 'was_impossible': False}\n",
      "user: Saara      item: Tuote4     r_ui = 3.12   est = 4.55   {'actual_k': 3, 'was_impossible': False}\n"
     ]
    }
   ],
   "source": [
    "testset = trainset.build_anti_testset()\n",
    "preds = algo.test(testset)\n",
    "# print(preds)\n",
    "\n",
    "# helppolukuinen output\n",
    "for i in preds:\n",
    "    print (i)\n"
   ]
  },
  {
   "cell_type": "code",
   "execution_count": 18,
   "metadata": {},
   "outputs": [
    {
     "name": "stdout",
     "output_type": "stream",
     "text": [
      "[Prediction(uid='Arttu', iid='Tuote2', r_ui=3.125, est=4.578947368421052, details={'actual_k': 3, 'was_impossible': False}),\n",
      " Prediction(uid='Arttu', iid='Tuote3', r_ui=3.125, est=2.31578947368421, details={'actual_k': 3, 'was_impossible': False}),\n",
      " Prediction(uid='Arttu', iid='Tuote4', r_ui=3.125, est=2.3248730964467, details={'actual_k': 3, 'was_impossible': False}),\n",
      " Prediction(uid='Leo', iid='Tuote1', r_ui=3.125, est=1.1428571428571428, details={'actual_k': 3, 'was_impossible': False}),\n",
      " Prediction(uid='Leo', iid='Tuote4', r_ui=3.125, est=4.793103448275862, details={'actual_k': 2, 'was_impossible': False}),\n",
      " Prediction(uid='Anna', iid='Tuote2', r_ui=3.125, est=1.4705882352941175, details={'actual_k': 3, 'was_impossible': False}),\n",
      " Prediction(uid='Anna', iid='Tuote3', r_ui=3.125, est=4.647058823529412, details={'actual_k': 3, 'was_impossible': False}),\n",
      " Prediction(uid='Saara', iid='Tuote4', r_ui=3.125, est=4.55072463768116, details={'actual_k': 3, 'was_impossible': False})]\n"
     ]
    }
   ],
   "source": [
    "pprint.pprint(preds)"
   ]
  },
  {
   "cell_type": "markdown",
   "metadata": {},
   "source": [
    "Allaolevan käyttötarkoitus jää vielä epäselväksi..."
   ]
  },
  {
   "cell_type": "code",
   "execution_count": null,
   "metadata": {},
   "outputs": [
    {
     "name": "stdout",
     "output_type": "stream",
     "text": [
      "Arttu ['Tuote2', 'Tuote4', 'Tuote3']\n",
      "Leo ['Tuote4', 'Tuote1']\n",
      "Anna ['Tuote3', 'Tuote2']\n",
      "Saara ['Tuote4']\n",
      "Arttu \n",
      "\n",
      "('Tuote2', 4.578947368421052)\n",
      "('Tuote4', 2.3248730964467)\n",
      "('Tuote3', 2.31578947368421)\n",
      "Leo \n",
      "\n",
      "('Tuote4', 4.793103448275862)\n",
      "('Tuote1', 1.1428571428571428)\n",
      "Anna \n",
      "\n",
      "('Tuote3', 4.647058823529412)\n",
      "('Tuote2', 1.4705882352941175)\n",
      "Saara \n",
      "\n",
      "('Tuote4', 4.55072463768116)\n"
     ]
    }
   ],
   "source": [
    "# This block copied from Surprise documentation at\n",
    "# http://surprise.readthedocs.io/en/stable/FAQ.html#how-to-get-the-top-n-recommendations-for-each-user\n",
    "\n",
    "def get_top_n(predictions, n=10):\n",
    "    '''Return the top-N recommendation for each user from a set of predictions.\n",
    "\n",
    "    Args:\n",
    "        predictions(list of Prediction objects): The list of predictions, as\n",
    "            returned by the test method of an algorithm.\n",
    "        n(int): The number of recommendation to output for each user. Default\n",
    "            is 10.\n",
    "\n",
    "    Returns:\n",
    "    A dict where keys are user (raw) ids and values are lists of tuples:\n",
    "        [(raw item id, rating estimation), ...] of size n.\n",
    "    '''\n",
    "\n",
    "    # First map the predictions to each user.\n",
    "    top_n = defaultdict(list)\n",
    "    for uid, iid, true_r, est, _ in predictions:\n",
    "        top_n[uid].append((iid, est))\n",
    "\n",
    "    # Then sort the predictions for each user and retrieve the k highest ones.\n",
    "    for uid, user_ratings in top_n.items():\n",
    "        user_ratings.sort(key=lambda x: x[1], reverse=True)\n",
    "        top_n[uid] = user_ratings[:n]\n",
    "\n",
    "    return top_n\n",
    "\n",
    "top_n = get_top_n(preds, n=10)#\n",
    "\n",
    "# Print the recommended items for each user\n",
    "for uid, user_ratings in top_n.items():\n",
    "    print(uid, [iid for (iid, _) in user_ratings])\n",
    "\n"
   ]
  },
  {
   "cell_type": "code",
   "execution_count": 19,
   "metadata": {},
   "outputs": [
    {
     "name": "stdout",
     "output_type": "stream",
     "text": [
      "Computing the msd similarity matrix...\n",
      "Done computing similarity matrix.\n",
      "Computing the msd similarity matrix...\n",
      "Done computing similarity matrix.\n",
      "Computing the msd similarity matrix...\n",
      "Done computing similarity matrix.\n",
      "Evaluating MAE, RMSE of algorithm KNNBasic on 3 split(s).\n",
      "\n",
      "                  Fold 1  Fold 2  Fold 3  Mean    Std     \n",
      "MAE (testset)     1.1066  1.6121  1.9444  1.5544  0.3445  \n",
      "RMSE (testset)    1.2415  2.0540  2.3366  1.8774  0.4642  \n",
      "Fit time          0.00    0.00    0.00    0.00    0.00    \n",
      "Test time         0.00    0.00    0.00    0.00    0.00    \n"
     ]
    },
    {
     "data": {
      "text/plain": [
       "{'test_mae': array([1.10658307, 1.61212121, 1.94444444]),\n",
       " 'test_rmse': array([1.2415267 , 2.05400011, 2.33663787]),\n",
       " 'fit_time': (0.0, 0.0, 0.0),\n",
       " 'test_time': (0.0, 0.0, 0.0)}"
      ]
     },
     "execution_count": 19,
     "metadata": {},
     "output_type": "execute_result"
    }
   ],
   "source": [
    "cross_validate(algo, data, measures=[\"MAE\", \"RMSE\"], cv=3, verbose=True)"
   ]
  },
  {
   "cell_type": "code",
   "execution_count": null,
   "metadata": {},
   "outputs": [],
   "source": []
  }
 ],
 "metadata": {
  "kernelspec": {
   "display_name": "condaenv",
   "language": "python",
   "name": "python3"
  },
  "language_info": {
   "codemirror_mode": {
    "name": "ipython",
    "version": 3
   },
   "file_extension": ".py",
   "mimetype": "text/x-python",
   "name": "python",
   "nbconvert_exporter": "python",
   "pygments_lexer": "ipython3",
   "version": "3.12.7"
  }
 },
 "nbformat": 4,
 "nbformat_minor": 2
}
